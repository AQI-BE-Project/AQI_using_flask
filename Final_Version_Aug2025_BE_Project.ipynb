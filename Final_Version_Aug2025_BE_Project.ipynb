{
  "nbformat": 4,
  "nbformat_minor": 0,
  "metadata": {
    "colab": {
      "provenance": []
    },
    "kernelspec": {
      "display_name": "Python 3",
      "name": "python3"
    }
  },
  "cells": [
    {
      "cell_type": "code",
      "metadata": {
        "id": "f688XfHfhwPY"
      },
      "source": [
        "import pandas as pd\n",
        "import matplotlib.pyplot as plt\n",
        "import json"
      ],
      "execution_count": null,
      "outputs": []
    },
    {
      "cell_type": "code",
      "metadata": {
        "id": "aQ5a4ukybFf4"
      },
      "source": [
        "AQI_Data = pd.read_csv('/content/sample_data/AQI_Data_Updated.csv')"
      ],
      "execution_count": null,
      "outputs": []
    },
    {
      "cell_type": "code",
      "source": [],
      "metadata": {
        "id": "g6BbvvJh_FuH"
      },
      "execution_count": null,
      "outputs": []
    },
    {
      "cell_type": "code",
      "metadata": {
        "colab": {
          "base_uri": "https://localhost:8080/",
          "height": 206
        },
        "id": "EKafEkwFbU7i",
        "outputId": "cf0adc1b-77c4-4e30-ae6f-1c69328d3f5d"
      },
      "source": [
        "AQI_Data.head()"
      ],
      "execution_count": null,
      "outputs": [
        {
          "output_type": "execute_result",
          "data": {
            "text/plain": [
              "                    StationName     City        State       PM2.5        PM10  \\\n",
              "0  Adarsh Nagar, Jaipur - RSPCB   Jaipur    Rajasthan   43.250334  120.261114   \n",
              "1          Alipur, Delhi - DPCC    Delhi        Delhi  107.021602  197.580827   \n",
              "2     Anand Vihar, Delhi - DPCC    Delhi        Delhi  154.365905  362.629647   \n",
              "3     Ashok Vihar, Delhi - DPCC    Delhi        Delhi  113.448510  225.789226   \n",
              "4   Ballygunge, Kolkata - WBPCB  Kolkata  West Bengal   59.962733  108.286733   \n",
              "\n",
              "         SO2        NO2         O3        CO         AQI  \n",
              "0  10.063455  31.214742  51.491236  0.862796  121.116515  \n",
              "1  19.881373  49.721391  33.666532  0.947658  217.323944  \n",
              "2  18.225125  88.280773  32.143444  2.203037  356.551864  \n",
              "3  16.577240  41.574111  38.581085  1.149654  238.744804  \n",
              "4   7.255067  26.138767  38.163633  0.669100  143.223333  "
            ],
            "text/html": [
              "\n",
              "  <div id=\"df-fd3f6799-3978-4485-854c-404ccdf6d563\" class=\"colab-df-container\">\n",
              "    <div>\n",
              "<style scoped>\n",
              "    .dataframe tbody tr th:only-of-type {\n",
              "        vertical-align: middle;\n",
              "    }\n",
              "\n",
              "    .dataframe tbody tr th {\n",
              "        vertical-align: top;\n",
              "    }\n",
              "\n",
              "    .dataframe thead th {\n",
              "        text-align: right;\n",
              "    }\n",
              "</style>\n",
              "<table border=\"1\" class=\"dataframe\">\n",
              "  <thead>\n",
              "    <tr style=\"text-align: right;\">\n",
              "      <th></th>\n",
              "      <th>StationName</th>\n",
              "      <th>City</th>\n",
              "      <th>State</th>\n",
              "      <th>PM2.5</th>\n",
              "      <th>PM10</th>\n",
              "      <th>SO2</th>\n",
              "      <th>NO2</th>\n",
              "      <th>O3</th>\n",
              "      <th>CO</th>\n",
              "      <th>AQI</th>\n",
              "    </tr>\n",
              "  </thead>\n",
              "  <tbody>\n",
              "    <tr>\n",
              "      <th>0</th>\n",
              "      <td>Adarsh Nagar, Jaipur - RSPCB</td>\n",
              "      <td>Jaipur</td>\n",
              "      <td>Rajasthan</td>\n",
              "      <td>43.250334</td>\n",
              "      <td>120.261114</td>\n",
              "      <td>10.063455</td>\n",
              "      <td>31.214742</td>\n",
              "      <td>51.491236</td>\n",
              "      <td>0.862796</td>\n",
              "      <td>121.116515</td>\n",
              "    </tr>\n",
              "    <tr>\n",
              "      <th>1</th>\n",
              "      <td>Alipur, Delhi - DPCC</td>\n",
              "      <td>Delhi</td>\n",
              "      <td>Delhi</td>\n",
              "      <td>107.021602</td>\n",
              "      <td>197.580827</td>\n",
              "      <td>19.881373</td>\n",
              "      <td>49.721391</td>\n",
              "      <td>33.666532</td>\n",
              "      <td>0.947658</td>\n",
              "      <td>217.323944</td>\n",
              "    </tr>\n",
              "    <tr>\n",
              "      <th>2</th>\n",
              "      <td>Anand Vihar, Delhi - DPCC</td>\n",
              "      <td>Delhi</td>\n",
              "      <td>Delhi</td>\n",
              "      <td>154.365905</td>\n",
              "      <td>362.629647</td>\n",
              "      <td>18.225125</td>\n",
              "      <td>88.280773</td>\n",
              "      <td>32.143444</td>\n",
              "      <td>2.203037</td>\n",
              "      <td>356.551864</td>\n",
              "    </tr>\n",
              "    <tr>\n",
              "      <th>3</th>\n",
              "      <td>Ashok Vihar, Delhi - DPCC</td>\n",
              "      <td>Delhi</td>\n",
              "      <td>Delhi</td>\n",
              "      <td>113.448510</td>\n",
              "      <td>225.789226</td>\n",
              "      <td>16.577240</td>\n",
              "      <td>41.574111</td>\n",
              "      <td>38.581085</td>\n",
              "      <td>1.149654</td>\n",
              "      <td>238.744804</td>\n",
              "    </tr>\n",
              "    <tr>\n",
              "      <th>4</th>\n",
              "      <td>Ballygunge, Kolkata - WBPCB</td>\n",
              "      <td>Kolkata</td>\n",
              "      <td>West Bengal</td>\n",
              "      <td>59.962733</td>\n",
              "      <td>108.286733</td>\n",
              "      <td>7.255067</td>\n",
              "      <td>26.138767</td>\n",
              "      <td>38.163633</td>\n",
              "      <td>0.669100</td>\n",
              "      <td>143.223333</td>\n",
              "    </tr>\n",
              "  </tbody>\n",
              "</table>\n",
              "</div>\n",
              "    <div class=\"colab-df-buttons\">\n",
              "\n",
              "  <div class=\"colab-df-container\">\n",
              "    <button class=\"colab-df-convert\" onclick=\"convertToInteractive('df-fd3f6799-3978-4485-854c-404ccdf6d563')\"\n",
              "            title=\"Convert this dataframe to an interactive table.\"\n",
              "            style=\"display:none;\">\n",
              "\n",
              "  <svg xmlns=\"http://www.w3.org/2000/svg\" height=\"24px\" viewBox=\"0 -960 960 960\">\n",
              "    <path d=\"M120-120v-720h720v720H120Zm60-500h600v-160H180v160Zm220 220h160v-160H400v160Zm0 220h160v-160H400v160ZM180-400h160v-160H180v160Zm440 0h160v-160H620v160ZM180-180h160v-160H180v160Zm440 0h160v-160H620v160Z\"/>\n",
              "  </svg>\n",
              "    </button>\n",
              "\n",
              "  <style>\n",
              "    .colab-df-container {\n",
              "      display:flex;\n",
              "      gap: 12px;\n",
              "    }\n",
              "\n",
              "    .colab-df-convert {\n",
              "      background-color: #E8F0FE;\n",
              "      border: none;\n",
              "      border-radius: 50%;\n",
              "      cursor: pointer;\n",
              "      display: none;\n",
              "      fill: #1967D2;\n",
              "      height: 32px;\n",
              "      padding: 0 0 0 0;\n",
              "      width: 32px;\n",
              "    }\n",
              "\n",
              "    .colab-df-convert:hover {\n",
              "      background-color: #E2EBFA;\n",
              "      box-shadow: 0px 1px 2px rgba(60, 64, 67, 0.3), 0px 1px 3px 1px rgba(60, 64, 67, 0.15);\n",
              "      fill: #174EA6;\n",
              "    }\n",
              "\n",
              "    .colab-df-buttons div {\n",
              "      margin-bottom: 4px;\n",
              "    }\n",
              "\n",
              "    [theme=dark] .colab-df-convert {\n",
              "      background-color: #3B4455;\n",
              "      fill: #D2E3FC;\n",
              "    }\n",
              "\n",
              "    [theme=dark] .colab-df-convert:hover {\n",
              "      background-color: #434B5C;\n",
              "      box-shadow: 0px 1px 3px 1px rgba(0, 0, 0, 0.15);\n",
              "      filter: drop-shadow(0px 1px 2px rgba(0, 0, 0, 0.3));\n",
              "      fill: #FFFFFF;\n",
              "    }\n",
              "  </style>\n",
              "\n",
              "    <script>\n",
              "      const buttonEl =\n",
              "        document.querySelector('#df-fd3f6799-3978-4485-854c-404ccdf6d563 button.colab-df-convert');\n",
              "      buttonEl.style.display =\n",
              "        google.colab.kernel.accessAllowed ? 'block' : 'none';\n",
              "\n",
              "      async function convertToInteractive(key) {\n",
              "        const element = document.querySelector('#df-fd3f6799-3978-4485-854c-404ccdf6d563');\n",
              "        const dataTable =\n",
              "          await google.colab.kernel.invokeFunction('convertToInteractive',\n",
              "                                                    [key], {});\n",
              "        if (!dataTable) return;\n",
              "\n",
              "        const docLinkHtml = 'Like what you see? Visit the ' +\n",
              "          '<a target=\"_blank\" href=https://colab.research.google.com/notebooks/data_table.ipynb>data table notebook</a>'\n",
              "          + ' to learn more about interactive tables.';\n",
              "        element.innerHTML = '';\n",
              "        dataTable['output_type'] = 'display_data';\n",
              "        await google.colab.output.renderOutput(dataTable, element);\n",
              "        const docLink = document.createElement('div');\n",
              "        docLink.innerHTML = docLinkHtml;\n",
              "        element.appendChild(docLink);\n",
              "      }\n",
              "    </script>\n",
              "  </div>\n",
              "\n",
              "\n",
              "    <div id=\"df-139e77c9-23fc-41ea-aa0a-93c82be841ac\">\n",
              "      <button class=\"colab-df-quickchart\" onclick=\"quickchart('df-139e77c9-23fc-41ea-aa0a-93c82be841ac')\"\n",
              "                title=\"Suggest charts\"\n",
              "                style=\"display:none;\">\n",
              "\n",
              "<svg xmlns=\"http://www.w3.org/2000/svg\" height=\"24px\"viewBox=\"0 0 24 24\"\n",
              "     width=\"24px\">\n",
              "    <g>\n",
              "        <path d=\"M19 3H5c-1.1 0-2 .9-2 2v14c0 1.1.9 2 2 2h14c1.1 0 2-.9 2-2V5c0-1.1-.9-2-2-2zM9 17H7v-7h2v7zm4 0h-2V7h2v10zm4 0h-2v-4h2v4z\"/>\n",
              "    </g>\n",
              "</svg>\n",
              "      </button>\n",
              "\n",
              "<style>\n",
              "  .colab-df-quickchart {\n",
              "      --bg-color: #E8F0FE;\n",
              "      --fill-color: #1967D2;\n",
              "      --hover-bg-color: #E2EBFA;\n",
              "      --hover-fill-color: #174EA6;\n",
              "      --disabled-fill-color: #AAA;\n",
              "      --disabled-bg-color: #DDD;\n",
              "  }\n",
              "\n",
              "  [theme=dark] .colab-df-quickchart {\n",
              "      --bg-color: #3B4455;\n",
              "      --fill-color: #D2E3FC;\n",
              "      --hover-bg-color: #434B5C;\n",
              "      --hover-fill-color: #FFFFFF;\n",
              "      --disabled-bg-color: #3B4455;\n",
              "      --disabled-fill-color: #666;\n",
              "  }\n",
              "\n",
              "  .colab-df-quickchart {\n",
              "    background-color: var(--bg-color);\n",
              "    border: none;\n",
              "    border-radius: 50%;\n",
              "    cursor: pointer;\n",
              "    display: none;\n",
              "    fill: var(--fill-color);\n",
              "    height: 32px;\n",
              "    padding: 0;\n",
              "    width: 32px;\n",
              "  }\n",
              "\n",
              "  .colab-df-quickchart:hover {\n",
              "    background-color: var(--hover-bg-color);\n",
              "    box-shadow: 0 1px 2px rgba(60, 64, 67, 0.3), 0 1px 3px 1px rgba(60, 64, 67, 0.15);\n",
              "    fill: var(--button-hover-fill-color);\n",
              "  }\n",
              "\n",
              "  .colab-df-quickchart-complete:disabled,\n",
              "  .colab-df-quickchart-complete:disabled:hover {\n",
              "    background-color: var(--disabled-bg-color);\n",
              "    fill: var(--disabled-fill-color);\n",
              "    box-shadow: none;\n",
              "  }\n",
              "\n",
              "  .colab-df-spinner {\n",
              "    border: 2px solid var(--fill-color);\n",
              "    border-color: transparent;\n",
              "    border-bottom-color: var(--fill-color);\n",
              "    animation:\n",
              "      spin 1s steps(1) infinite;\n",
              "  }\n",
              "\n",
              "  @keyframes spin {\n",
              "    0% {\n",
              "      border-color: transparent;\n",
              "      border-bottom-color: var(--fill-color);\n",
              "      border-left-color: var(--fill-color);\n",
              "    }\n",
              "    20% {\n",
              "      border-color: transparent;\n",
              "      border-left-color: var(--fill-color);\n",
              "      border-top-color: var(--fill-color);\n",
              "    }\n",
              "    30% {\n",
              "      border-color: transparent;\n",
              "      border-left-color: var(--fill-color);\n",
              "      border-top-color: var(--fill-color);\n",
              "      border-right-color: var(--fill-color);\n",
              "    }\n",
              "    40% {\n",
              "      border-color: transparent;\n",
              "      border-right-color: var(--fill-color);\n",
              "      border-top-color: var(--fill-color);\n",
              "    }\n",
              "    60% {\n",
              "      border-color: transparent;\n",
              "      border-right-color: var(--fill-color);\n",
              "    }\n",
              "    80% {\n",
              "      border-color: transparent;\n",
              "      border-right-color: var(--fill-color);\n",
              "      border-bottom-color: var(--fill-color);\n",
              "    }\n",
              "    90% {\n",
              "      border-color: transparent;\n",
              "      border-bottom-color: var(--fill-color);\n",
              "    }\n",
              "  }\n",
              "</style>\n",
              "\n",
              "      <script>\n",
              "        async function quickchart(key) {\n",
              "          const quickchartButtonEl =\n",
              "            document.querySelector('#' + key + ' button');\n",
              "          quickchartButtonEl.disabled = true;  // To prevent multiple clicks.\n",
              "          quickchartButtonEl.classList.add('colab-df-spinner');\n",
              "          try {\n",
              "            const charts = await google.colab.kernel.invokeFunction(\n",
              "                'suggestCharts', [key], {});\n",
              "          } catch (error) {\n",
              "            console.error('Error during call to suggestCharts:', error);\n",
              "          }\n",
              "          quickchartButtonEl.classList.remove('colab-df-spinner');\n",
              "          quickchartButtonEl.classList.add('colab-df-quickchart-complete');\n",
              "        }\n",
              "        (() => {\n",
              "          let quickchartButtonEl =\n",
              "            document.querySelector('#df-139e77c9-23fc-41ea-aa0a-93c82be841ac button');\n",
              "          quickchartButtonEl.style.display =\n",
              "            google.colab.kernel.accessAllowed ? 'block' : 'none';\n",
              "        })();\n",
              "      </script>\n",
              "    </div>\n",
              "\n",
              "    </div>\n",
              "  </div>\n"
            ],
            "application/vnd.google.colaboratory.intrinsic+json": {
              "type": "dataframe",
              "variable_name": "AQI_Data",
              "summary": "{\n  \"name\": \"AQI_Data\",\n  \"rows\": 80,\n  \"fields\": [\n    {\n      \"column\": \"StationName\",\n      \"properties\": {\n        \"dtype\": \"string\",\n        \"num_unique_values\": 80,\n        \"samples\": [\n          \"Jawaharlal Nehru Stadium, Delhi - DPCC\",\n          \"Adarsh Nagar, Jaipur - RSPCB\",\n          \"Govt. High School Shikarpur, Patna - BSPCB\"\n        ],\n        \"semantic_type\": \"\",\n        \"description\": \"\"\n      }\n    },\n    {\n      \"column\": \"City\",\n      \"properties\": {\n        \"dtype\": \"category\",\n        \"num_unique_values\": 24,\n        \"samples\": [\n          \"Visakhapatnam\",\n          \"Amaravati\",\n          \"Jaipur\"\n        ],\n        \"semantic_type\": \"\",\n        \"description\": \"\"\n      }\n    },\n    {\n      \"column\": \"State\",\n      \"properties\": {\n        \"dtype\": \"category\",\n        \"num_unique_values\": 20,\n        \"samples\": [\n          \"Rajasthan\",\n          \"Mizoram\",\n          \"Chandigarh\"\n        ],\n        \"semantic_type\": \"\",\n        \"description\": \"\"\n      }\n    },\n    {\n      \"column\": \"PM2.5\",\n      \"properties\": {\n        \"dtype\": \"number\",\n        \"std\": 34.12440748909163,\n        \"min\": 18.089009900990117,\n        \"max\": 154.36590508474563,\n        \"num_unique_values\": 80,\n        \"samples\": [\n          98.72260047281318,\n          43.25033434650445,\n          51.73386666666667\n        ],\n        \"semantic_type\": \"\",\n        \"description\": \"\"\n      }\n    },\n    {\n      \"column\": \"PM10\",\n      \"properties\": {\n        \"dtype\": \"number\",\n        \"std\": 70.77090426948915,\n        \"min\": 24.643267326732683,\n        \"max\": 362.6296474576269,\n        \"num_unique_values\": 80,\n        \"samples\": [\n          211.9984988179672,\n          120.26111448834835,\n          181.18666666666675\n        ],\n        \"semantic_type\": \"\",\n        \"description\": \"\"\n      }\n    },\n    {\n      \"column\": \"SO2\",\n      \"properties\": {\n        \"dtype\": \"number\",\n        \"std\": 7.858984459409617,\n        \"min\": 3.1778225806451608,\n        \"max\": 66.00537396121881,\n        \"num_unique_values\": 80,\n        \"samples\": [\n          17.56360520094562,\n          10.063454913880454,\n          8.469600000000003\n        ],\n        \"semantic_type\": \"\",\n        \"description\": \"\"\n      }\n    },\n    {\n      \"column\": \"NO2\",\n      \"properties\": {\n        \"dtype\": \"number\",\n        \"std\": 17.921232880356193,\n        \"min\": 0.3862376237623763,\n        \"max\": 88.28077288135606,\n        \"num_unique_values\": 80,\n        \"samples\": [\n          64.38827423167848,\n          31.214741641337437,\n          9.386933333333332\n        ],\n        \"semantic_type\": \"\",\n        \"description\": \"\"\n      }\n    },\n    {\n      \"column\": \"O3\",\n      \"properties\": {\n        \"dtype\": \"number\",\n        \"std\": 26.004879921628536,\n        \"min\": 3.709900990099012,\n        \"max\": 233.4447071428573,\n        \"num_unique_values\": 80,\n        \"samples\": [\n          38.70821513002367,\n          51.49123606889574,\n          5.550933333333335\n        ],\n        \"semantic_type\": \"\",\n        \"description\": \"\"\n      }\n    },\n    {\n      \"column\": \"CO\",\n      \"properties\": {\n        \"dtype\": \"number\",\n        \"std\": 1.9288983820531946,\n        \"min\": 0.2703535353535352,\n        \"max\": 17.779750692520775,\n        \"num_unique_values\": 80,\n        \"samples\": [\n          1.628203309692672,\n          0.8627963525835876,\n          0.6499999999999998\n        ],\n        \"semantic_type\": \"\",\n        \"description\": \"\"\n      }\n    },\n    {\n      \"column\": \"AQI\",\n      \"properties\": {\n        \"dtype\": \"number\",\n        \"std\": 72.6598982915741,\n        \"min\": 36.23762376237624,\n        \"max\": 375.32409972299166,\n        \"num_unique_values\": 80,\n        \"samples\": [\n          221.25413711583928,\n          121.11651469098278,\n          164.48\n        ],\n        \"semantic_type\": \"\",\n        \"description\": \"\"\n      }\n    }\n  ]\n}"
            }
          },
          "metadata": {},
          "execution_count": 84
        }
      ]
    },
    {
      "cell_type": "code",
      "source": [
        "AQI_Data = AQI_Data.drop(['SO2','NO2','CO'],axis=1)"
      ],
      "metadata": {
        "id": "exzyBbIvBEt1"
      },
      "execution_count": null,
      "outputs": []
    },
    {
      "cell_type": "code",
      "source": [
        "AQI_Data.head()"
      ],
      "metadata": {
        "colab": {
          "base_uri": "https://localhost:8080/",
          "height": 206
        },
        "id": "I2dHfxkrBFTx",
        "outputId": "e82ff5fa-95eb-4272-d12b-1f6cd6af724a"
      },
      "execution_count": null,
      "outputs": [
        {
          "output_type": "execute_result",
          "data": {
            "text/plain": [
              "                    StationName     City        State       PM2.5        PM10  \\\n",
              "0  Adarsh Nagar, Jaipur - RSPCB   Jaipur    Rajasthan   43.250334  120.261114   \n",
              "1          Alipur, Delhi - DPCC    Delhi        Delhi  107.021602  197.580827   \n",
              "2     Anand Vihar, Delhi - DPCC    Delhi        Delhi  154.365905  362.629647   \n",
              "3     Ashok Vihar, Delhi - DPCC    Delhi        Delhi  113.448510  225.789226   \n",
              "4   Ballygunge, Kolkata - WBPCB  Kolkata  West Bengal   59.962733  108.286733   \n",
              "\n",
              "          O3         AQI  \n",
              "0  51.491236  121.116515  \n",
              "1  33.666532  217.323944  \n",
              "2  32.143444  356.551864  \n",
              "3  38.581085  238.744804  \n",
              "4  38.163633  143.223333  "
            ],
            "text/html": [
              "\n",
              "  <div id=\"df-d667671c-a432-4cf9-a4f4-7a763f77c6cb\" class=\"colab-df-container\">\n",
              "    <div>\n",
              "<style scoped>\n",
              "    .dataframe tbody tr th:only-of-type {\n",
              "        vertical-align: middle;\n",
              "    }\n",
              "\n",
              "    .dataframe tbody tr th {\n",
              "        vertical-align: top;\n",
              "    }\n",
              "\n",
              "    .dataframe thead th {\n",
              "        text-align: right;\n",
              "    }\n",
              "</style>\n",
              "<table border=\"1\" class=\"dataframe\">\n",
              "  <thead>\n",
              "    <tr style=\"text-align: right;\">\n",
              "      <th></th>\n",
              "      <th>StationName</th>\n",
              "      <th>City</th>\n",
              "      <th>State</th>\n",
              "      <th>PM2.5</th>\n",
              "      <th>PM10</th>\n",
              "      <th>O3</th>\n",
              "      <th>AQI</th>\n",
              "    </tr>\n",
              "  </thead>\n",
              "  <tbody>\n",
              "    <tr>\n",
              "      <th>0</th>\n",
              "      <td>Adarsh Nagar, Jaipur - RSPCB</td>\n",
              "      <td>Jaipur</td>\n",
              "      <td>Rajasthan</td>\n",
              "      <td>43.250334</td>\n",
              "      <td>120.261114</td>\n",
              "      <td>51.491236</td>\n",
              "      <td>121.116515</td>\n",
              "    </tr>\n",
              "    <tr>\n",
              "      <th>1</th>\n",
              "      <td>Alipur, Delhi - DPCC</td>\n",
              "      <td>Delhi</td>\n",
              "      <td>Delhi</td>\n",
              "      <td>107.021602</td>\n",
              "      <td>197.580827</td>\n",
              "      <td>33.666532</td>\n",
              "      <td>217.323944</td>\n",
              "    </tr>\n",
              "    <tr>\n",
              "      <th>2</th>\n",
              "      <td>Anand Vihar, Delhi - DPCC</td>\n",
              "      <td>Delhi</td>\n",
              "      <td>Delhi</td>\n",
              "      <td>154.365905</td>\n",
              "      <td>362.629647</td>\n",
              "      <td>32.143444</td>\n",
              "      <td>356.551864</td>\n",
              "    </tr>\n",
              "    <tr>\n",
              "      <th>3</th>\n",
              "      <td>Ashok Vihar, Delhi - DPCC</td>\n",
              "      <td>Delhi</td>\n",
              "      <td>Delhi</td>\n",
              "      <td>113.448510</td>\n",
              "      <td>225.789226</td>\n",
              "      <td>38.581085</td>\n",
              "      <td>238.744804</td>\n",
              "    </tr>\n",
              "    <tr>\n",
              "      <th>4</th>\n",
              "      <td>Ballygunge, Kolkata - WBPCB</td>\n",
              "      <td>Kolkata</td>\n",
              "      <td>West Bengal</td>\n",
              "      <td>59.962733</td>\n",
              "      <td>108.286733</td>\n",
              "      <td>38.163633</td>\n",
              "      <td>143.223333</td>\n",
              "    </tr>\n",
              "  </tbody>\n",
              "</table>\n",
              "</div>\n",
              "    <div class=\"colab-df-buttons\">\n",
              "\n",
              "  <div class=\"colab-df-container\">\n",
              "    <button class=\"colab-df-convert\" onclick=\"convertToInteractive('df-d667671c-a432-4cf9-a4f4-7a763f77c6cb')\"\n",
              "            title=\"Convert this dataframe to an interactive table.\"\n",
              "            style=\"display:none;\">\n",
              "\n",
              "  <svg xmlns=\"http://www.w3.org/2000/svg\" height=\"24px\" viewBox=\"0 -960 960 960\">\n",
              "    <path d=\"M120-120v-720h720v720H120Zm60-500h600v-160H180v160Zm220 220h160v-160H400v160Zm0 220h160v-160H400v160ZM180-400h160v-160H180v160Zm440 0h160v-160H620v160ZM180-180h160v-160H180v160Zm440 0h160v-160H620v160Z\"/>\n",
              "  </svg>\n",
              "    </button>\n",
              "\n",
              "  <style>\n",
              "    .colab-df-container {\n",
              "      display:flex;\n",
              "      gap: 12px;\n",
              "    }\n",
              "\n",
              "    .colab-df-convert {\n",
              "      background-color: #E8F0FE;\n",
              "      border: none;\n",
              "      border-radius: 50%;\n",
              "      cursor: pointer;\n",
              "      display: none;\n",
              "      fill: #1967D2;\n",
              "      height: 32px;\n",
              "      padding: 0 0 0 0;\n",
              "      width: 32px;\n",
              "    }\n",
              "\n",
              "    .colab-df-convert:hover {\n",
              "      background-color: #E2EBFA;\n",
              "      box-shadow: 0px 1px 2px rgba(60, 64, 67, 0.3), 0px 1px 3px 1px rgba(60, 64, 67, 0.15);\n",
              "      fill: #174EA6;\n",
              "    }\n",
              "\n",
              "    .colab-df-buttons div {\n",
              "      margin-bottom: 4px;\n",
              "    }\n",
              "\n",
              "    [theme=dark] .colab-df-convert {\n",
              "      background-color: #3B4455;\n",
              "      fill: #D2E3FC;\n",
              "    }\n",
              "\n",
              "    [theme=dark] .colab-df-convert:hover {\n",
              "      background-color: #434B5C;\n",
              "      box-shadow: 0px 1px 3px 1px rgba(0, 0, 0, 0.15);\n",
              "      filter: drop-shadow(0px 1px 2px rgba(0, 0, 0, 0.3));\n",
              "      fill: #FFFFFF;\n",
              "    }\n",
              "  </style>\n",
              "\n",
              "    <script>\n",
              "      const buttonEl =\n",
              "        document.querySelector('#df-d667671c-a432-4cf9-a4f4-7a763f77c6cb button.colab-df-convert');\n",
              "      buttonEl.style.display =\n",
              "        google.colab.kernel.accessAllowed ? 'block' : 'none';\n",
              "\n",
              "      async function convertToInteractive(key) {\n",
              "        const element = document.querySelector('#df-d667671c-a432-4cf9-a4f4-7a763f77c6cb');\n",
              "        const dataTable =\n",
              "          await google.colab.kernel.invokeFunction('convertToInteractive',\n",
              "                                                    [key], {});\n",
              "        if (!dataTable) return;\n",
              "\n",
              "        const docLinkHtml = 'Like what you see? Visit the ' +\n",
              "          '<a target=\"_blank\" href=https://colab.research.google.com/notebooks/data_table.ipynb>data table notebook</a>'\n",
              "          + ' to learn more about interactive tables.';\n",
              "        element.innerHTML = '';\n",
              "        dataTable['output_type'] = 'display_data';\n",
              "        await google.colab.output.renderOutput(dataTable, element);\n",
              "        const docLink = document.createElement('div');\n",
              "        docLink.innerHTML = docLinkHtml;\n",
              "        element.appendChild(docLink);\n",
              "      }\n",
              "    </script>\n",
              "  </div>\n",
              "\n",
              "\n",
              "    <div id=\"df-dba31934-bd6a-4aaf-b18d-69c65b1f3e75\">\n",
              "      <button class=\"colab-df-quickchart\" onclick=\"quickchart('df-dba31934-bd6a-4aaf-b18d-69c65b1f3e75')\"\n",
              "                title=\"Suggest charts\"\n",
              "                style=\"display:none;\">\n",
              "\n",
              "<svg xmlns=\"http://www.w3.org/2000/svg\" height=\"24px\"viewBox=\"0 0 24 24\"\n",
              "     width=\"24px\">\n",
              "    <g>\n",
              "        <path d=\"M19 3H5c-1.1 0-2 .9-2 2v14c0 1.1.9 2 2 2h14c1.1 0 2-.9 2-2V5c0-1.1-.9-2-2-2zM9 17H7v-7h2v7zm4 0h-2V7h2v10zm4 0h-2v-4h2v4z\"/>\n",
              "    </g>\n",
              "</svg>\n",
              "      </button>\n",
              "\n",
              "<style>\n",
              "  .colab-df-quickchart {\n",
              "      --bg-color: #E8F0FE;\n",
              "      --fill-color: #1967D2;\n",
              "      --hover-bg-color: #E2EBFA;\n",
              "      --hover-fill-color: #174EA6;\n",
              "      --disabled-fill-color: #AAA;\n",
              "      --disabled-bg-color: #DDD;\n",
              "  }\n",
              "\n",
              "  [theme=dark] .colab-df-quickchart {\n",
              "      --bg-color: #3B4455;\n",
              "      --fill-color: #D2E3FC;\n",
              "      --hover-bg-color: #434B5C;\n",
              "      --hover-fill-color: #FFFFFF;\n",
              "      --disabled-bg-color: #3B4455;\n",
              "      --disabled-fill-color: #666;\n",
              "  }\n",
              "\n",
              "  .colab-df-quickchart {\n",
              "    background-color: var(--bg-color);\n",
              "    border: none;\n",
              "    border-radius: 50%;\n",
              "    cursor: pointer;\n",
              "    display: none;\n",
              "    fill: var(--fill-color);\n",
              "    height: 32px;\n",
              "    padding: 0;\n",
              "    width: 32px;\n",
              "  }\n",
              "\n",
              "  .colab-df-quickchart:hover {\n",
              "    background-color: var(--hover-bg-color);\n",
              "    box-shadow: 0 1px 2px rgba(60, 64, 67, 0.3), 0 1px 3px 1px rgba(60, 64, 67, 0.15);\n",
              "    fill: var(--button-hover-fill-color);\n",
              "  }\n",
              "\n",
              "  .colab-df-quickchart-complete:disabled,\n",
              "  .colab-df-quickchart-complete:disabled:hover {\n",
              "    background-color: var(--disabled-bg-color);\n",
              "    fill: var(--disabled-fill-color);\n",
              "    box-shadow: none;\n",
              "  }\n",
              "\n",
              "  .colab-df-spinner {\n",
              "    border: 2px solid var(--fill-color);\n",
              "    border-color: transparent;\n",
              "    border-bottom-color: var(--fill-color);\n",
              "    animation:\n",
              "      spin 1s steps(1) infinite;\n",
              "  }\n",
              "\n",
              "  @keyframes spin {\n",
              "    0% {\n",
              "      border-color: transparent;\n",
              "      border-bottom-color: var(--fill-color);\n",
              "      border-left-color: var(--fill-color);\n",
              "    }\n",
              "    20% {\n",
              "      border-color: transparent;\n",
              "      border-left-color: var(--fill-color);\n",
              "      border-top-color: var(--fill-color);\n",
              "    }\n",
              "    30% {\n",
              "      border-color: transparent;\n",
              "      border-left-color: var(--fill-color);\n",
              "      border-top-color: var(--fill-color);\n",
              "      border-right-color: var(--fill-color);\n",
              "    }\n",
              "    40% {\n",
              "      border-color: transparent;\n",
              "      border-right-color: var(--fill-color);\n",
              "      border-top-color: var(--fill-color);\n",
              "    }\n",
              "    60% {\n",
              "      border-color: transparent;\n",
              "      border-right-color: var(--fill-color);\n",
              "    }\n",
              "    80% {\n",
              "      border-color: transparent;\n",
              "      border-right-color: var(--fill-color);\n",
              "      border-bottom-color: var(--fill-color);\n",
              "    }\n",
              "    90% {\n",
              "      border-color: transparent;\n",
              "      border-bottom-color: var(--fill-color);\n",
              "    }\n",
              "  }\n",
              "</style>\n",
              "\n",
              "      <script>\n",
              "        async function quickchart(key) {\n",
              "          const quickchartButtonEl =\n",
              "            document.querySelector('#' + key + ' button');\n",
              "          quickchartButtonEl.disabled = true;  // To prevent multiple clicks.\n",
              "          quickchartButtonEl.classList.add('colab-df-spinner');\n",
              "          try {\n",
              "            const charts = await google.colab.kernel.invokeFunction(\n",
              "                'suggestCharts', [key], {});\n",
              "          } catch (error) {\n",
              "            console.error('Error during call to suggestCharts:', error);\n",
              "          }\n",
              "          quickchartButtonEl.classList.remove('colab-df-spinner');\n",
              "          quickchartButtonEl.classList.add('colab-df-quickchart-complete');\n",
              "        }\n",
              "        (() => {\n",
              "          let quickchartButtonEl =\n",
              "            document.querySelector('#df-dba31934-bd6a-4aaf-b18d-69c65b1f3e75 button');\n",
              "          quickchartButtonEl.style.display =\n",
              "            google.colab.kernel.accessAllowed ? 'block' : 'none';\n",
              "        })();\n",
              "      </script>\n",
              "    </div>\n",
              "\n",
              "    </div>\n",
              "  </div>\n"
            ],
            "application/vnd.google.colaboratory.intrinsic+json": {
              "type": "dataframe",
              "variable_name": "AQI_Data",
              "summary": "{\n  \"name\": \"AQI_Data\",\n  \"rows\": 80,\n  \"fields\": [\n    {\n      \"column\": \"StationName\",\n      \"properties\": {\n        \"dtype\": \"string\",\n        \"num_unique_values\": 80,\n        \"samples\": [\n          \"Jawaharlal Nehru Stadium, Delhi - DPCC\",\n          \"Adarsh Nagar, Jaipur - RSPCB\",\n          \"Govt. High School Shikarpur, Patna - BSPCB\"\n        ],\n        \"semantic_type\": \"\",\n        \"description\": \"\"\n      }\n    },\n    {\n      \"column\": \"City\",\n      \"properties\": {\n        \"dtype\": \"category\",\n        \"num_unique_values\": 24,\n        \"samples\": [\n          \"Visakhapatnam\",\n          \"Amaravati\",\n          \"Jaipur\"\n        ],\n        \"semantic_type\": \"\",\n        \"description\": \"\"\n      }\n    },\n    {\n      \"column\": \"State\",\n      \"properties\": {\n        \"dtype\": \"category\",\n        \"num_unique_values\": 20,\n        \"samples\": [\n          \"Rajasthan\",\n          \"Mizoram\",\n          \"Chandigarh\"\n        ],\n        \"semantic_type\": \"\",\n        \"description\": \"\"\n      }\n    },\n    {\n      \"column\": \"PM2.5\",\n      \"properties\": {\n        \"dtype\": \"number\",\n        \"std\": 34.12440748909163,\n        \"min\": 18.089009900990117,\n        \"max\": 154.36590508474563,\n        \"num_unique_values\": 80,\n        \"samples\": [\n          98.72260047281318,\n          43.25033434650445,\n          51.73386666666667\n        ],\n        \"semantic_type\": \"\",\n        \"description\": \"\"\n      }\n    },\n    {\n      \"column\": \"PM10\",\n      \"properties\": {\n        \"dtype\": \"number\",\n        \"std\": 70.77090426948915,\n        \"min\": 24.643267326732683,\n        \"max\": 362.6296474576269,\n        \"num_unique_values\": 80,\n        \"samples\": [\n          211.9984988179672,\n          120.26111448834835,\n          181.18666666666675\n        ],\n        \"semantic_type\": \"\",\n        \"description\": \"\"\n      }\n    },\n    {\n      \"column\": \"O3\",\n      \"properties\": {\n        \"dtype\": \"number\",\n        \"std\": 26.004879921628536,\n        \"min\": 3.709900990099012,\n        \"max\": 233.4447071428573,\n        \"num_unique_values\": 80,\n        \"samples\": [\n          38.70821513002367,\n          51.49123606889574,\n          5.550933333333335\n        ],\n        \"semantic_type\": \"\",\n        \"description\": \"\"\n      }\n    },\n    {\n      \"column\": \"AQI\",\n      \"properties\": {\n        \"dtype\": \"number\",\n        \"std\": 72.6598982915741,\n        \"min\": 36.23762376237624,\n        \"max\": 375.32409972299166,\n        \"num_unique_values\": 80,\n        \"samples\": [\n          221.25413711583928,\n          121.11651469098278,\n          164.48\n        ],\n        \"semantic_type\": \"\",\n        \"description\": \"\"\n      }\n    }\n  ]\n}"
            }
          },
          "metadata": {},
          "execution_count": 86
        }
      ]
    },
    {
      "cell_type": "code",
      "metadata": {
        "colab": {
          "base_uri": "https://localhost:8080/",
          "height": 81
        },
        "id": "iZ4Vrgf_ANgW",
        "outputId": "2b87a58e-e4c4-44f7-a066-04bb1061eb12"
      },
      "source": [
        "AQI_Data[(AQI_Data.State==\"Maharashtra\") & (AQI_Data.City==\"Mumbai\") & (AQI_Data.StationName==\"Bandra, Mumbai - MPCB\")]"
      ],
      "execution_count": null,
      "outputs": [
        {
          "output_type": "execute_result",
          "data": {
            "text/plain": [
              "             StationName    City        State      PM2.5       PM10  \\\n",
              "5  Bandra, Mumbai - MPCB  Mumbai  Maharashtra  31.971223  92.728728   \n",
              "\n",
              "          O3         AQI  \n",
              "5  31.869413  107.448613  "
            ],
            "text/html": [
              "\n",
              "  <div id=\"df-d905ce53-1bbc-4738-b153-5a6cff844363\" class=\"colab-df-container\">\n",
              "    <div>\n",
              "<style scoped>\n",
              "    .dataframe tbody tr th:only-of-type {\n",
              "        vertical-align: middle;\n",
              "    }\n",
              "\n",
              "    .dataframe tbody tr th {\n",
              "        vertical-align: top;\n",
              "    }\n",
              "\n",
              "    .dataframe thead th {\n",
              "        text-align: right;\n",
              "    }\n",
              "</style>\n",
              "<table border=\"1\" class=\"dataframe\">\n",
              "  <thead>\n",
              "    <tr style=\"text-align: right;\">\n",
              "      <th></th>\n",
              "      <th>StationName</th>\n",
              "      <th>City</th>\n",
              "      <th>State</th>\n",
              "      <th>PM2.5</th>\n",
              "      <th>PM10</th>\n",
              "      <th>O3</th>\n",
              "      <th>AQI</th>\n",
              "    </tr>\n",
              "  </thead>\n",
              "  <tbody>\n",
              "    <tr>\n",
              "      <th>5</th>\n",
              "      <td>Bandra, Mumbai - MPCB</td>\n",
              "      <td>Mumbai</td>\n",
              "      <td>Maharashtra</td>\n",
              "      <td>31.971223</td>\n",
              "      <td>92.728728</td>\n",
              "      <td>31.869413</td>\n",
              "      <td>107.448613</td>\n",
              "    </tr>\n",
              "  </tbody>\n",
              "</table>\n",
              "</div>\n",
              "    <div class=\"colab-df-buttons\">\n",
              "\n",
              "  <div class=\"colab-df-container\">\n",
              "    <button class=\"colab-df-convert\" onclick=\"convertToInteractive('df-d905ce53-1bbc-4738-b153-5a6cff844363')\"\n",
              "            title=\"Convert this dataframe to an interactive table.\"\n",
              "            style=\"display:none;\">\n",
              "\n",
              "  <svg xmlns=\"http://www.w3.org/2000/svg\" height=\"24px\" viewBox=\"0 -960 960 960\">\n",
              "    <path d=\"M120-120v-720h720v720H120Zm60-500h600v-160H180v160Zm220 220h160v-160H400v160Zm0 220h160v-160H400v160ZM180-400h160v-160H180v160Zm440 0h160v-160H620v160ZM180-180h160v-160H180v160Zm440 0h160v-160H620v160Z\"/>\n",
              "  </svg>\n",
              "    </button>\n",
              "\n",
              "  <style>\n",
              "    .colab-df-container {\n",
              "      display:flex;\n",
              "      gap: 12px;\n",
              "    }\n",
              "\n",
              "    .colab-df-convert {\n",
              "      background-color: #E8F0FE;\n",
              "      border: none;\n",
              "      border-radius: 50%;\n",
              "      cursor: pointer;\n",
              "      display: none;\n",
              "      fill: #1967D2;\n",
              "      height: 32px;\n",
              "      padding: 0 0 0 0;\n",
              "      width: 32px;\n",
              "    }\n",
              "\n",
              "    .colab-df-convert:hover {\n",
              "      background-color: #E2EBFA;\n",
              "      box-shadow: 0px 1px 2px rgba(60, 64, 67, 0.3), 0px 1px 3px 1px rgba(60, 64, 67, 0.15);\n",
              "      fill: #174EA6;\n",
              "    }\n",
              "\n",
              "    .colab-df-buttons div {\n",
              "      margin-bottom: 4px;\n",
              "    }\n",
              "\n",
              "    [theme=dark] .colab-df-convert {\n",
              "      background-color: #3B4455;\n",
              "      fill: #D2E3FC;\n",
              "    }\n",
              "\n",
              "    [theme=dark] .colab-df-convert:hover {\n",
              "      background-color: #434B5C;\n",
              "      box-shadow: 0px 1px 3px 1px rgba(0, 0, 0, 0.15);\n",
              "      filter: drop-shadow(0px 1px 2px rgba(0, 0, 0, 0.3));\n",
              "      fill: #FFFFFF;\n",
              "    }\n",
              "  </style>\n",
              "\n",
              "    <script>\n",
              "      const buttonEl =\n",
              "        document.querySelector('#df-d905ce53-1bbc-4738-b153-5a6cff844363 button.colab-df-convert');\n",
              "      buttonEl.style.display =\n",
              "        google.colab.kernel.accessAllowed ? 'block' : 'none';\n",
              "\n",
              "      async function convertToInteractive(key) {\n",
              "        const element = document.querySelector('#df-d905ce53-1bbc-4738-b153-5a6cff844363');\n",
              "        const dataTable =\n",
              "          await google.colab.kernel.invokeFunction('convertToInteractive',\n",
              "                                                    [key], {});\n",
              "        if (!dataTable) return;\n",
              "\n",
              "        const docLinkHtml = 'Like what you see? Visit the ' +\n",
              "          '<a target=\"_blank\" href=https://colab.research.google.com/notebooks/data_table.ipynb>data table notebook</a>'\n",
              "          + ' to learn more about interactive tables.';\n",
              "        element.innerHTML = '';\n",
              "        dataTable['output_type'] = 'display_data';\n",
              "        await google.colab.output.renderOutput(dataTable, element);\n",
              "        const docLink = document.createElement('div');\n",
              "        docLink.innerHTML = docLinkHtml;\n",
              "        element.appendChild(docLink);\n",
              "      }\n",
              "    </script>\n",
              "  </div>\n",
              "\n",
              "\n",
              "    </div>\n",
              "  </div>\n"
            ],
            "application/vnd.google.colaboratory.intrinsic+json": {
              "type": "dataframe",
              "summary": "{\n  \"name\": \"AQI_Data[(AQI_Data\",\n  \"rows\": 1,\n  \"fields\": [\n    {\n      \"column\": \"StationName\",\n      \"properties\": {\n        \"dtype\": \"string\",\n        \"num_unique_values\": 1,\n        \"samples\": [\n          \"Bandra, Mumbai - MPCB\"\n        ],\n        \"semantic_type\": \"\",\n        \"description\": \"\"\n      }\n    },\n    {\n      \"column\": \"City\",\n      \"properties\": {\n        \"dtype\": \"string\",\n        \"num_unique_values\": 1,\n        \"samples\": [\n          \"Mumbai\"\n        ],\n        \"semantic_type\": \"\",\n        \"description\": \"\"\n      }\n    },\n    {\n      \"column\": \"State\",\n      \"properties\": {\n        \"dtype\": \"string\",\n        \"num_unique_values\": 1,\n        \"samples\": [\n          \"Maharashtra\"\n        ],\n        \"semantic_type\": \"\",\n        \"description\": \"\"\n      }\n    },\n    {\n      \"column\": \"PM2.5\",\n      \"properties\": {\n        \"dtype\": \"number\",\n        \"std\": null,\n        \"min\": 31.97122349102775,\n        \"max\": 31.97122349102775,\n        \"num_unique_values\": 1,\n        \"samples\": [\n          31.97122349102775\n        ],\n        \"semantic_type\": \"\",\n        \"description\": \"\"\n      }\n    },\n    {\n      \"column\": \"PM10\",\n      \"properties\": {\n        \"dtype\": \"number\",\n        \"std\": null,\n        \"min\": 92.72872756933124,\n        \"max\": 92.72872756933124,\n        \"num_unique_values\": 1,\n        \"samples\": [\n          92.72872756933124\n        ],\n        \"semantic_type\": \"\",\n        \"description\": \"\"\n      }\n    },\n    {\n      \"column\": \"O3\",\n      \"properties\": {\n        \"dtype\": \"number\",\n        \"std\": null,\n        \"min\": 31.86941272430666,\n        \"max\": 31.86941272430666,\n        \"num_unique_values\": 1,\n        \"samples\": [\n          31.86941272430666\n        ],\n        \"semantic_type\": \"\",\n        \"description\": \"\"\n      }\n    },\n    {\n      \"column\": \"AQI\",\n      \"properties\": {\n        \"dtype\": \"number\",\n        \"std\": null,\n        \"min\": 107.44861337683524,\n        \"max\": 107.44861337683524,\n        \"num_unique_values\": 1,\n        \"samples\": [\n          107.44861337683524\n        ],\n        \"semantic_type\": \"\",\n        \"description\": \"\"\n      }\n    }\n  ]\n}"
            }
          },
          "metadata": {},
          "execution_count": 87
        }
      ]
    },
    {
      "cell_type": "code",
      "metadata": {
        "id": "g7d0cq6Yqxtb"
      },
      "source": [
        "def ret_parameters(a,b,c):\n",
        "    return AQI_Data[(AQI_Data.State==a) & (AQI_Data.City==b) & (AQI_Data.StationName==c)].iloc[:, 3:-1].values\n",
        "\n",
        "def ret_result(a,b,c):\n",
        "  return AQI_Data[(AQI_Data.State==a) & (AQI_Data.City==b) & (AQI_Data.StationName==c)].iloc[:, :-1].values"
      ],
      "execution_count": null,
      "outputs": []
    },
    {
      "cell_type": "code",
      "metadata": {
        "id": "k1RZEmE1AOaq"
      },
      "source": [
        "parameters = ret_parameters(\"Maharashtra\",\"Mumbai\",\"Bandra, Mumbai - MPCB\")\n",
        "result = ret_result(\"Rajasthan\",\"Jaipur\",\"Police Commissionerate, Jaipur - RSPCB\")"
      ],
      "execution_count": null,
      "outputs": []
    },
    {
      "cell_type": "code",
      "metadata": {
        "colab": {
          "base_uri": "https://localhost:8080/"
        },
        "id": "vugkWzciBvBL",
        "outputId": "b10290ef-0955-441b-ed2d-43937f36e22f"
      },
      "source": [
        "parameters"
      ],
      "execution_count": null,
      "outputs": [
        {
          "output_type": "execute_result",
          "data": {
            "text/plain": [
              "array([[31.97122349, 92.72872757, 31.86941272]])"
            ]
          },
          "metadata": {},
          "execution_count": 90
        }
      ]
    },
    {
      "cell_type": "code",
      "metadata": {
        "id": "sR25zD2WK0Bp"
      },
      "source": [
        "X = AQI_Data.iloc[:, 3:-1].values\n",
        "Y = AQI_Data.iloc[:, -1].values"
      ],
      "execution_count": null,
      "outputs": []
    },
    {
      "cell_type": "code",
      "source": [
        "X"
      ],
      "metadata": {
        "collapsed": true,
        "colab": {
          "base_uri": "https://localhost:8080/"
        },
        "id": "Q8QT8CgazLk_",
        "outputId": "68465499-3cc9-410c-82a4-82591fadace1"
      },
      "execution_count": null,
      "outputs": [
        {
          "output_type": "execute_result",
          "data": {
            "text/plain": [
              "array([[ 43.25033435, 120.26111449,  51.49123607],\n",
              "       [107.02160211, 197.58082746,  33.66653169],\n",
              "       [154.36590508, 362.62964746,  32.14344407],\n",
              "       [113.44851039, 225.78922633,  38.58108545],\n",
              "       [ 59.96273333, 108.28673333,  38.16363333],\n",
              "       [ 31.97122349,  92.72872757,  31.86941272],\n",
              "       [ 36.09427653,  76.37709003,  38.10172026],\n",
              "       [120.2283915 , 241.14412747,  45.53429439],\n",
              "       [ 41.39223729,  85.20430508,  42.73681356],\n",
              "       [ 43.59861957,  97.50258696,  28.9325    ],\n",
              "       [ 29.56808081,  61.92441077,  19.13835017],\n",
              "       [ 34.48300962,  82.16303846,  42.70100962],\n",
              "       [ 43.27419162, 111.80404192,  13.85835329],\n",
              "       [ 39.06319527,  79.18269231,  35.0912426 ],\n",
              "       [ 61.75444444, 135.44666667,  39.48592593],\n",
              "       [111.25080769, 234.51169231,  43.83189744],\n",
              "       [ 83.21185936, 180.69808105,  42.02804529],\n",
              "       [103.53208092, 276.95117919,  41.12427746],\n",
              "       [ 53.86946565,  99.44063613,  30.13969466],\n",
              "       [ 64.83078303, 123.70293638,  13.84205546],\n",
              "       [ 47.29211589, 106.87504829,  37.02027217],\n",
              "       [ 56.31453431, 117.60178922,  22.38872549],\n",
              "       [ 51.73386667, 181.18666667,   5.55093333],\n",
              "       [ 29.30105096,  64.0258758 ,  32.40246815],\n",
              "       [ 27.54471756,  63.66073282,  47.62541985],\n",
              "       [ 37.02321791,  88.16339527,  33.80609797],\n",
              "       [ 42.07730032,  94.1600639 ,  28.58689297],\n",
              "       [109.26303817, 170.70372519,  24.18416794],\n",
              "       [ 40.72439276,  80.88816537,  20.32658915],\n",
              "       [128.5903252 , 259.77263647,  27.46901278],\n",
              "       [ 98.72260047, 211.99849882,  38.70821513],\n",
              "       [ 31.58801942,  74.99502913,  38.59434951],\n",
              "       [ 28.70330645,  51.14596774,  37.46451613],\n",
              "       [ 35.21935691, 115.42118971,  25.12012862],\n",
              "       [ 24.91065657,  36.3320202 ,  28.45757576],\n",
              "       [ 93.05383991, 204.80979118,  31.75012761],\n",
              "       [ 27.58739777,  65.10672862,  67.17133829],\n",
              "       [104.4769084 , 198.52180916,  23.51241985],\n",
              "       [ 49.67980609, 113.63484765,  45.37645429],\n",
              "       [123.71011561, 271.21575145,  28.99031792],\n",
              "       [ 51.30736264, 127.55741758,  12.08637363],\n",
              "       [ 87.73081731, 173.19305288,  46.13402644],\n",
              "       [109.46514184, 234.46346336,  39.52059102],\n",
              "       [117.89702797, 217.57487179,  43.77745921],\n",
              "       [103.7750365 , 223.15198297,  25.14377129],\n",
              "       [ 94.57908985, 186.8477713 ,  28.70224037],\n",
              "       [ 27.59295146,  52.80283495,  35.16524272],\n",
              "       [ 66.20024364, 135.04080508,  40.20930085],\n",
              "       [ 32.44654545,  68.68064935,  23.88368831],\n",
              "       [121.52563571, 124.73799286, 233.44470714],\n",
              "       [100.72301711, 206.94923795,  25.77479005],\n",
              "       [118.78699121, 242.33596106,  55.02910804],\n",
              "       [ 89.23214022, 171.91651292,  34.69577491],\n",
              "       [ 46.1932526 ,  93.28979239,  30.80626298],\n",
              "       [ 61.48777328, 113.40625506,  25.09643725],\n",
              "       [ 62.95765766, 131.70693694,  17.37972973],\n",
              "       [120.68651442, 245.68715144,  31.80604567],\n",
              "       [ 29.30122388,  38.78573134,  28.67528358],\n",
              "       [ 39.02016352,  77.83464151,  38.58861635],\n",
              "       [ 40.55710247,  84.42151943,  19.63600707],\n",
              "       [ 54.75601695, 133.28271186,  80.82559322],\n",
              "       [ 55.39009346, 120.64718588,  53.0123676 ],\n",
              "       [ 18.0890099 ,  24.64326733,   3.70990099],\n",
              "       [ 32.40871492,  84.39880355,  36.20748892],\n",
              "       [ 41.61806818, 113.29832386,  24.49252841],\n",
              "       [102.38622535, 257.63926761,  49.64628169],\n",
              "       [107.95970075, 217.66723192,  45.26744389],\n",
              "       [ 85.40822715, 152.81551247,  46.27389197],\n",
              "       [ 50.20723022, 119.7157554 ,  59.82420863],\n",
              "       [ 64.59075047, 169.06041276,  15.39369606],\n",
              "       [ 51.53503876, 111.92767442,  36.02728682],\n",
              "       [ 59.58494382, 111.85348315,  52.00674157],\n",
              "       [ 39.41467662,  82.37656716,  16.18159204],\n",
              "       [ 60.33748281, 105.50782669,  32.78193948],\n",
              "       [ 39.27111475,  90.44495082,  22.29744262],\n",
              "       [103.36158463, 221.25384154,  40.02343337],\n",
              "       [ 31.69921053,  66.96697368,   3.85703947],\n",
              "       [129.32611639, 279.12833729,  26.96870546],\n",
              "       [ 36.29837838,  81.64254054,  32.07548649],\n",
              "       [ 50.61679048,  99.4934    ,  36.8584    ]])"
            ]
          },
          "metadata": {},
          "execution_count": 92
        }
      ]
    },
    {
      "cell_type": "code",
      "source": [
        "Y"
      ],
      "metadata": {
        "colab": {
          "base_uri": "https://localhost:8080/"
        },
        "collapsed": true,
        "id": "AnD0pDGdzRYA",
        "outputId": "6bb19ede-1d95-41f9-a4ec-3e2ccf89240a"
      },
      "execution_count": null,
      "outputs": [
        {
          "output_type": "execute_result",
          "data": {
            "text/plain": [
              "array([121.11651469, 217.32394366, 356.55186441, 238.7448037 ,\n",
              "       143.22333333, 107.44861338,  95.42282958, 254.16691958,\n",
              "       108.12881356,  97.14021739,  68.7037037 ,  91.74519231,\n",
              "       127.93413174,  96.9852071 , 155.37037037, 243.24358974,\n",
              "       202.34684148, 260.99653179, 121.64122137, 153.91190865,\n",
              "       116.80772608, 125.04289216, 164.48      ,  78.71019108,\n",
              "        83.59389313,  91.07432432,  98.78434505, 215.4       ,\n",
              "        97.33591731, 261.23925668, 221.25413712,  90.36699029,\n",
              "        67.21774194, 122.94212219,  54.10606061, 209.33758701,\n",
              "       106.50185874, 222.02290076, 375.32409972, 269.84104046,\n",
              "       126.23626374, 205.74038462, 236.47281324, 239.01048951,\n",
              "       223.83454988, 203.42240373,  75.88640777, 148.49894068,\n",
              "        82.66493506, 296.28214286, 218.47433904, 247.3209799 ,\n",
              "       182.73800738, 108.13148789, 139.86032389, 162.45945946,\n",
              "       250.66706731,  73.28656716,  97.75597484,  95.28975265,\n",
              "       154.03389831, 131.51817238,  36.23762376,  95.03692762,\n",
              "       119.55397727, 261.22676056, 231.67955112, 197.7299169 ,\n",
              "       132.82733813, 176.06566604, 142.57364341, 123.33707865,\n",
              "       105.49253731, 139.00825309, 101.72459016, 230.15846339,\n",
              "       103.05263158, 274.18052257,  97.07567568, 107.39142857])"
            ]
          },
          "metadata": {},
          "execution_count": 93
        }
      ]
    },
    {
      "cell_type": "code",
      "metadata": {
        "id": "CxUXC_YiR47o"
      },
      "source": [
        "from sklearn.model_selection import train_test_split\n",
        "X_train, X_test, y_train, y_test = train_test_split(X, Y, test_size=0.2, random_state=0)"
      ],
      "execution_count": null,
      "outputs": []
    },
    {
      "cell_type": "code",
      "metadata": {
        "colab": {
          "base_uri": "https://localhost:8080/",
          "height": 80
        },
        "id": "uJDh8tbySByn",
        "outputId": "f0eacac7-3852-4270-fb1a-bf2a3f7e7d57"
      },
      "source": [
        "from sklearn.ensemble import RandomForestRegressor\n",
        "regressor = RandomForestRegressor(n_estimators = 10, random_state = 0)\n",
        "regressor.fit(X_train,y_train)"
      ],
      "execution_count": null,
      "outputs": [
        {
          "output_type": "execute_result",
          "data": {
            "text/plain": [
              "RandomForestRegressor(n_estimators=10, random_state=0)"
            ],
            "text/html": [
              "<style>#sk-container-id-3 {\n",
              "  /* Definition of color scheme common for light and dark mode */\n",
              "  --sklearn-color-text: #000;\n",
              "  --sklearn-color-text-muted: #666;\n",
              "  --sklearn-color-line: gray;\n",
              "  /* Definition of color scheme for unfitted estimators */\n",
              "  --sklearn-color-unfitted-level-0: #fff5e6;\n",
              "  --sklearn-color-unfitted-level-1: #f6e4d2;\n",
              "  --sklearn-color-unfitted-level-2: #ffe0b3;\n",
              "  --sklearn-color-unfitted-level-3: chocolate;\n",
              "  /* Definition of color scheme for fitted estimators */\n",
              "  --sklearn-color-fitted-level-0: #f0f8ff;\n",
              "  --sklearn-color-fitted-level-1: #d4ebff;\n",
              "  --sklearn-color-fitted-level-2: #b3dbfd;\n",
              "  --sklearn-color-fitted-level-3: cornflowerblue;\n",
              "\n",
              "  /* Specific color for light theme */\n",
              "  --sklearn-color-text-on-default-background: var(--sg-text-color, var(--theme-code-foreground, var(--jp-content-font-color1, black)));\n",
              "  --sklearn-color-background: var(--sg-background-color, var(--theme-background, var(--jp-layout-color0, white)));\n",
              "  --sklearn-color-border-box: var(--sg-text-color, var(--theme-code-foreground, var(--jp-content-font-color1, black)));\n",
              "  --sklearn-color-icon: #696969;\n",
              "\n",
              "  @media (prefers-color-scheme: dark) {\n",
              "    /* Redefinition of color scheme for dark theme */\n",
              "    --sklearn-color-text-on-default-background: var(--sg-text-color, var(--theme-code-foreground, var(--jp-content-font-color1, white)));\n",
              "    --sklearn-color-background: var(--sg-background-color, var(--theme-background, var(--jp-layout-color0, #111)));\n",
              "    --sklearn-color-border-box: var(--sg-text-color, var(--theme-code-foreground, var(--jp-content-font-color1, white)));\n",
              "    --sklearn-color-icon: #878787;\n",
              "  }\n",
              "}\n",
              "\n",
              "#sk-container-id-3 {\n",
              "  color: var(--sklearn-color-text);\n",
              "}\n",
              "\n",
              "#sk-container-id-3 pre {\n",
              "  padding: 0;\n",
              "}\n",
              "\n",
              "#sk-container-id-3 input.sk-hidden--visually {\n",
              "  border: 0;\n",
              "  clip: rect(1px 1px 1px 1px);\n",
              "  clip: rect(1px, 1px, 1px, 1px);\n",
              "  height: 1px;\n",
              "  margin: -1px;\n",
              "  overflow: hidden;\n",
              "  padding: 0;\n",
              "  position: absolute;\n",
              "  width: 1px;\n",
              "}\n",
              "\n",
              "#sk-container-id-3 div.sk-dashed-wrapped {\n",
              "  border: 1px dashed var(--sklearn-color-line);\n",
              "  margin: 0 0.4em 0.5em 0.4em;\n",
              "  box-sizing: border-box;\n",
              "  padding-bottom: 0.4em;\n",
              "  background-color: var(--sklearn-color-background);\n",
              "}\n",
              "\n",
              "#sk-container-id-3 div.sk-container {\n",
              "  /* jupyter's `normalize.less` sets `[hidden] { display: none; }`\n",
              "     but bootstrap.min.css set `[hidden] { display: none !important; }`\n",
              "     so we also need the `!important` here to be able to override the\n",
              "     default hidden behavior on the sphinx rendered scikit-learn.org.\n",
              "     See: https://github.com/scikit-learn/scikit-learn/issues/21755 */\n",
              "  display: inline-block !important;\n",
              "  position: relative;\n",
              "}\n",
              "\n",
              "#sk-container-id-3 div.sk-text-repr-fallback {\n",
              "  display: none;\n",
              "}\n",
              "\n",
              "div.sk-parallel-item,\n",
              "div.sk-serial,\n",
              "div.sk-item {\n",
              "  /* draw centered vertical line to link estimators */\n",
              "  background-image: linear-gradient(var(--sklearn-color-text-on-default-background), var(--sklearn-color-text-on-default-background));\n",
              "  background-size: 2px 100%;\n",
              "  background-repeat: no-repeat;\n",
              "  background-position: center center;\n",
              "}\n",
              "\n",
              "/* Parallel-specific style estimator block */\n",
              "\n",
              "#sk-container-id-3 div.sk-parallel-item::after {\n",
              "  content: \"\";\n",
              "  width: 100%;\n",
              "  border-bottom: 2px solid var(--sklearn-color-text-on-default-background);\n",
              "  flex-grow: 1;\n",
              "}\n",
              "\n",
              "#sk-container-id-3 div.sk-parallel {\n",
              "  display: flex;\n",
              "  align-items: stretch;\n",
              "  justify-content: center;\n",
              "  background-color: var(--sklearn-color-background);\n",
              "  position: relative;\n",
              "}\n",
              "\n",
              "#sk-container-id-3 div.sk-parallel-item {\n",
              "  display: flex;\n",
              "  flex-direction: column;\n",
              "}\n",
              "\n",
              "#sk-container-id-3 div.sk-parallel-item:first-child::after {\n",
              "  align-self: flex-end;\n",
              "  width: 50%;\n",
              "}\n",
              "\n",
              "#sk-container-id-3 div.sk-parallel-item:last-child::after {\n",
              "  align-self: flex-start;\n",
              "  width: 50%;\n",
              "}\n",
              "\n",
              "#sk-container-id-3 div.sk-parallel-item:only-child::after {\n",
              "  width: 0;\n",
              "}\n",
              "\n",
              "/* Serial-specific style estimator block */\n",
              "\n",
              "#sk-container-id-3 div.sk-serial {\n",
              "  display: flex;\n",
              "  flex-direction: column;\n",
              "  align-items: center;\n",
              "  background-color: var(--sklearn-color-background);\n",
              "  padding-right: 1em;\n",
              "  padding-left: 1em;\n",
              "}\n",
              "\n",
              "\n",
              "/* Toggleable style: style used for estimator/Pipeline/ColumnTransformer box that is\n",
              "clickable and can be expanded/collapsed.\n",
              "- Pipeline and ColumnTransformer use this feature and define the default style\n",
              "- Estimators will overwrite some part of the style using the `sk-estimator` class\n",
              "*/\n",
              "\n",
              "/* Pipeline and ColumnTransformer style (default) */\n",
              "\n",
              "#sk-container-id-3 div.sk-toggleable {\n",
              "  /* Default theme specific background. It is overwritten whether we have a\n",
              "  specific estimator or a Pipeline/ColumnTransformer */\n",
              "  background-color: var(--sklearn-color-background);\n",
              "}\n",
              "\n",
              "/* Toggleable label */\n",
              "#sk-container-id-3 label.sk-toggleable__label {\n",
              "  cursor: pointer;\n",
              "  display: flex;\n",
              "  width: 100%;\n",
              "  margin-bottom: 0;\n",
              "  padding: 0.5em;\n",
              "  box-sizing: border-box;\n",
              "  text-align: center;\n",
              "  align-items: start;\n",
              "  justify-content: space-between;\n",
              "  gap: 0.5em;\n",
              "}\n",
              "\n",
              "#sk-container-id-3 label.sk-toggleable__label .caption {\n",
              "  font-size: 0.6rem;\n",
              "  font-weight: lighter;\n",
              "  color: var(--sklearn-color-text-muted);\n",
              "}\n",
              "\n",
              "#sk-container-id-3 label.sk-toggleable__label-arrow:before {\n",
              "  /* Arrow on the left of the label */\n",
              "  content: \"▸\";\n",
              "  float: left;\n",
              "  margin-right: 0.25em;\n",
              "  color: var(--sklearn-color-icon);\n",
              "}\n",
              "\n",
              "#sk-container-id-3 label.sk-toggleable__label-arrow:hover:before {\n",
              "  color: var(--sklearn-color-text);\n",
              "}\n",
              "\n",
              "/* Toggleable content - dropdown */\n",
              "\n",
              "#sk-container-id-3 div.sk-toggleable__content {\n",
              "  max-height: 0;\n",
              "  max-width: 0;\n",
              "  overflow: hidden;\n",
              "  text-align: left;\n",
              "  /* unfitted */\n",
              "  background-color: var(--sklearn-color-unfitted-level-0);\n",
              "}\n",
              "\n",
              "#sk-container-id-3 div.sk-toggleable__content.fitted {\n",
              "  /* fitted */\n",
              "  background-color: var(--sklearn-color-fitted-level-0);\n",
              "}\n",
              "\n",
              "#sk-container-id-3 div.sk-toggleable__content pre {\n",
              "  margin: 0.2em;\n",
              "  border-radius: 0.25em;\n",
              "  color: var(--sklearn-color-text);\n",
              "  /* unfitted */\n",
              "  background-color: var(--sklearn-color-unfitted-level-0);\n",
              "}\n",
              "\n",
              "#sk-container-id-3 div.sk-toggleable__content.fitted pre {\n",
              "  /* unfitted */\n",
              "  background-color: var(--sklearn-color-fitted-level-0);\n",
              "}\n",
              "\n",
              "#sk-container-id-3 input.sk-toggleable__control:checked~div.sk-toggleable__content {\n",
              "  /* Expand drop-down */\n",
              "  max-height: 200px;\n",
              "  max-width: 100%;\n",
              "  overflow: auto;\n",
              "}\n",
              "\n",
              "#sk-container-id-3 input.sk-toggleable__control:checked~label.sk-toggleable__label-arrow:before {\n",
              "  content: \"▾\";\n",
              "}\n",
              "\n",
              "/* Pipeline/ColumnTransformer-specific style */\n",
              "\n",
              "#sk-container-id-3 div.sk-label input.sk-toggleable__control:checked~label.sk-toggleable__label {\n",
              "  color: var(--sklearn-color-text);\n",
              "  background-color: var(--sklearn-color-unfitted-level-2);\n",
              "}\n",
              "\n",
              "#sk-container-id-3 div.sk-label.fitted input.sk-toggleable__control:checked~label.sk-toggleable__label {\n",
              "  background-color: var(--sklearn-color-fitted-level-2);\n",
              "}\n",
              "\n",
              "/* Estimator-specific style */\n",
              "\n",
              "/* Colorize estimator box */\n",
              "#sk-container-id-3 div.sk-estimator input.sk-toggleable__control:checked~label.sk-toggleable__label {\n",
              "  /* unfitted */\n",
              "  background-color: var(--sklearn-color-unfitted-level-2);\n",
              "}\n",
              "\n",
              "#sk-container-id-3 div.sk-estimator.fitted input.sk-toggleable__control:checked~label.sk-toggleable__label {\n",
              "  /* fitted */\n",
              "  background-color: var(--sklearn-color-fitted-level-2);\n",
              "}\n",
              "\n",
              "#sk-container-id-3 div.sk-label label.sk-toggleable__label,\n",
              "#sk-container-id-3 div.sk-label label {\n",
              "  /* The background is the default theme color */\n",
              "  color: var(--sklearn-color-text-on-default-background);\n",
              "}\n",
              "\n",
              "/* On hover, darken the color of the background */\n",
              "#sk-container-id-3 div.sk-label:hover label.sk-toggleable__label {\n",
              "  color: var(--sklearn-color-text);\n",
              "  background-color: var(--sklearn-color-unfitted-level-2);\n",
              "}\n",
              "\n",
              "/* Label box, darken color on hover, fitted */\n",
              "#sk-container-id-3 div.sk-label.fitted:hover label.sk-toggleable__label.fitted {\n",
              "  color: var(--sklearn-color-text);\n",
              "  background-color: var(--sklearn-color-fitted-level-2);\n",
              "}\n",
              "\n",
              "/* Estimator label */\n",
              "\n",
              "#sk-container-id-3 div.sk-label label {\n",
              "  font-family: monospace;\n",
              "  font-weight: bold;\n",
              "  display: inline-block;\n",
              "  line-height: 1.2em;\n",
              "}\n",
              "\n",
              "#sk-container-id-3 div.sk-label-container {\n",
              "  text-align: center;\n",
              "}\n",
              "\n",
              "/* Estimator-specific */\n",
              "#sk-container-id-3 div.sk-estimator {\n",
              "  font-family: monospace;\n",
              "  border: 1px dotted var(--sklearn-color-border-box);\n",
              "  border-radius: 0.25em;\n",
              "  box-sizing: border-box;\n",
              "  margin-bottom: 0.5em;\n",
              "  /* unfitted */\n",
              "  background-color: var(--sklearn-color-unfitted-level-0);\n",
              "}\n",
              "\n",
              "#sk-container-id-3 div.sk-estimator.fitted {\n",
              "  /* fitted */\n",
              "  background-color: var(--sklearn-color-fitted-level-0);\n",
              "}\n",
              "\n",
              "/* on hover */\n",
              "#sk-container-id-3 div.sk-estimator:hover {\n",
              "  /* unfitted */\n",
              "  background-color: var(--sklearn-color-unfitted-level-2);\n",
              "}\n",
              "\n",
              "#sk-container-id-3 div.sk-estimator.fitted:hover {\n",
              "  /* fitted */\n",
              "  background-color: var(--sklearn-color-fitted-level-2);\n",
              "}\n",
              "\n",
              "/* Specification for estimator info (e.g. \"i\" and \"?\") */\n",
              "\n",
              "/* Common style for \"i\" and \"?\" */\n",
              "\n",
              ".sk-estimator-doc-link,\n",
              "a:link.sk-estimator-doc-link,\n",
              "a:visited.sk-estimator-doc-link {\n",
              "  float: right;\n",
              "  font-size: smaller;\n",
              "  line-height: 1em;\n",
              "  font-family: monospace;\n",
              "  background-color: var(--sklearn-color-background);\n",
              "  border-radius: 1em;\n",
              "  height: 1em;\n",
              "  width: 1em;\n",
              "  text-decoration: none !important;\n",
              "  margin-left: 0.5em;\n",
              "  text-align: center;\n",
              "  /* unfitted */\n",
              "  border: var(--sklearn-color-unfitted-level-1) 1pt solid;\n",
              "  color: var(--sklearn-color-unfitted-level-1);\n",
              "}\n",
              "\n",
              ".sk-estimator-doc-link.fitted,\n",
              "a:link.sk-estimator-doc-link.fitted,\n",
              "a:visited.sk-estimator-doc-link.fitted {\n",
              "  /* fitted */\n",
              "  border: var(--sklearn-color-fitted-level-1) 1pt solid;\n",
              "  color: var(--sklearn-color-fitted-level-1);\n",
              "}\n",
              "\n",
              "/* On hover */\n",
              "div.sk-estimator:hover .sk-estimator-doc-link:hover,\n",
              ".sk-estimator-doc-link:hover,\n",
              "div.sk-label-container:hover .sk-estimator-doc-link:hover,\n",
              ".sk-estimator-doc-link:hover {\n",
              "  /* unfitted */\n",
              "  background-color: var(--sklearn-color-unfitted-level-3);\n",
              "  color: var(--sklearn-color-background);\n",
              "  text-decoration: none;\n",
              "}\n",
              "\n",
              "div.sk-estimator.fitted:hover .sk-estimator-doc-link.fitted:hover,\n",
              ".sk-estimator-doc-link.fitted:hover,\n",
              "div.sk-label-container:hover .sk-estimator-doc-link.fitted:hover,\n",
              ".sk-estimator-doc-link.fitted:hover {\n",
              "  /* fitted */\n",
              "  background-color: var(--sklearn-color-fitted-level-3);\n",
              "  color: var(--sklearn-color-background);\n",
              "  text-decoration: none;\n",
              "}\n",
              "\n",
              "/* Span, style for the box shown on hovering the info icon */\n",
              ".sk-estimator-doc-link span {\n",
              "  display: none;\n",
              "  z-index: 9999;\n",
              "  position: relative;\n",
              "  font-weight: normal;\n",
              "  right: .2ex;\n",
              "  padding: .5ex;\n",
              "  margin: .5ex;\n",
              "  width: min-content;\n",
              "  min-width: 20ex;\n",
              "  max-width: 50ex;\n",
              "  color: var(--sklearn-color-text);\n",
              "  box-shadow: 2pt 2pt 4pt #999;\n",
              "  /* unfitted */\n",
              "  background: var(--sklearn-color-unfitted-level-0);\n",
              "  border: .5pt solid var(--sklearn-color-unfitted-level-3);\n",
              "}\n",
              "\n",
              ".sk-estimator-doc-link.fitted span {\n",
              "  /* fitted */\n",
              "  background: var(--sklearn-color-fitted-level-0);\n",
              "  border: var(--sklearn-color-fitted-level-3);\n",
              "}\n",
              "\n",
              ".sk-estimator-doc-link:hover span {\n",
              "  display: block;\n",
              "}\n",
              "\n",
              "/* \"?\"-specific style due to the `<a>` HTML tag */\n",
              "\n",
              "#sk-container-id-3 a.estimator_doc_link {\n",
              "  float: right;\n",
              "  font-size: 1rem;\n",
              "  line-height: 1em;\n",
              "  font-family: monospace;\n",
              "  background-color: var(--sklearn-color-background);\n",
              "  border-radius: 1rem;\n",
              "  height: 1rem;\n",
              "  width: 1rem;\n",
              "  text-decoration: none;\n",
              "  /* unfitted */\n",
              "  color: var(--sklearn-color-unfitted-level-1);\n",
              "  border: var(--sklearn-color-unfitted-level-1) 1pt solid;\n",
              "}\n",
              "\n",
              "#sk-container-id-3 a.estimator_doc_link.fitted {\n",
              "  /* fitted */\n",
              "  border: var(--sklearn-color-fitted-level-1) 1pt solid;\n",
              "  color: var(--sklearn-color-fitted-level-1);\n",
              "}\n",
              "\n",
              "/* On hover */\n",
              "#sk-container-id-3 a.estimator_doc_link:hover {\n",
              "  /* unfitted */\n",
              "  background-color: var(--sklearn-color-unfitted-level-3);\n",
              "  color: var(--sklearn-color-background);\n",
              "  text-decoration: none;\n",
              "}\n",
              "\n",
              "#sk-container-id-3 a.estimator_doc_link.fitted:hover {\n",
              "  /* fitted */\n",
              "  background-color: var(--sklearn-color-fitted-level-3);\n",
              "}\n",
              "</style><div id=\"sk-container-id-3\" class=\"sk-top-container\"><div class=\"sk-text-repr-fallback\"><pre>RandomForestRegressor(n_estimators=10, random_state=0)</pre><b>In a Jupyter environment, please rerun this cell to show the HTML representation or trust the notebook. <br />On GitHub, the HTML representation is unable to render, please try loading this page with nbviewer.org.</b></div><div class=\"sk-container\" hidden><div class=\"sk-item\"><div class=\"sk-estimator fitted sk-toggleable\"><input class=\"sk-toggleable__control sk-hidden--visually\" id=\"sk-estimator-id-3\" type=\"checkbox\" checked><label for=\"sk-estimator-id-3\" class=\"sk-toggleable__label fitted sk-toggleable__label-arrow\"><div><div>RandomForestRegressor</div></div><div><a class=\"sk-estimator-doc-link fitted\" rel=\"noreferrer\" target=\"_blank\" href=\"https://scikit-learn.org/1.6/modules/generated/sklearn.ensemble.RandomForestRegressor.html\">?<span>Documentation for RandomForestRegressor</span></a><span class=\"sk-estimator-doc-link fitted\">i<span>Fitted</span></span></div></label><div class=\"sk-toggleable__content fitted\"><pre>RandomForestRegressor(n_estimators=10, random_state=0)</pre></div> </div></div></div></div>"
            ]
          },
          "metadata": {},
          "execution_count": 95
        }
      ]
    },
    {
      "cell_type": "code",
      "metadata": {
        "id": "EAU_PXpfO4YJ"
      },
      "source": [
        "# regressor.predict([[66.200244 ,135.040805, 11.247415 , 41.576557 , 40.209301, 0.859354]])"
      ],
      "execution_count": null,
      "outputs": []
    },
    {
      "cell_type": "code",
      "source": [
        "regressor.predict([[31.97122349, 92.72872757, 31.86941272]])"
      ],
      "metadata": {
        "colab": {
          "base_uri": "https://localhost:8080/"
        },
        "id": "mPKgdAsCzb_a",
        "outputId": "281277c5-060b-4a61-c04c-a45e398101f6"
      },
      "execution_count": null,
      "outputs": [
        {
          "output_type": "execute_result",
          "data": {
            "text/plain": [
              "array([102.08146071])"
            ]
          },
          "metadata": {},
          "execution_count": 97
        }
      ]
    },
    {
      "cell_type": "code",
      "metadata": {
        "colab": {
          "base_uri": "https://localhost:8080/"
        },
        "id": "Lv5OKjZysF8Q",
        "outputId": "ac1175f3-9c83-45c1-c0ac-f851bc085461"
      },
      "source": [
        "regressor.predict(parameters)"
      ],
      "execution_count": null,
      "outputs": [
        {
          "output_type": "execute_result",
          "data": {
            "text/plain": [
              "array([102.08146071])"
            ]
          },
          "metadata": {},
          "execution_count": 98
        }
      ]
    },
    {
      "cell_type": "code",
      "metadata": {
        "id": "Tk22jE3vPo5a"
      },
      "source": [
        "y_pred=regressor.predict(X_test)"
      ],
      "execution_count": null,
      "outputs": []
    },
    {
      "cell_type": "code",
      "metadata": {
        "colab": {
          "base_uri": "https://localhost:8080/"
        },
        "id": "Kx6MzXqnT57q",
        "outputId": "d20151ca-5994-4945-fd89-7d873ff20bd3"
      },
      "source": [
        "y_test,y_pred"
      ],
      "execution_count": null,
      "outputs": [
        {
          "output_type": "execute_result",
          "data": {
            "text/plain": [
              "(array([218.47433904, 215.4       , 221.25413712, 274.18052257,\n",
              "        203.42240373, 123.33707865, 231.67955112, 132.82733813,\n",
              "         82.66493506, 176.06566604, 126.23626374,  95.03692762,\n",
              "        356.55186441, 105.49253731, 182.73800738,  54.10606061]),\n",
              " array([224.55208917, 227.52701708, 230.78989837, 264.45865714,\n",
              "        212.68840699, 135.59991834, 230.01111256, 151.70752453,\n",
              "         99.91792773, 163.44194293, 160.8492566 ,  95.69120975,\n",
              "        265.31883552,  96.47694376, 207.42187757,  76.3879686 ]))"
            ]
          },
          "metadata": {},
          "execution_count": 102
        }
      ]
    },
    {
      "cell_type": "code",
      "metadata": {
        "colab": {
          "base_uri": "https://localhost:8080/"
        },
        "id": "VYIc7DPzT-51",
        "outputId": "014dc6d2-a76c-4e9c-fd6a-9ecede49bcf1"
      },
      "source": [
        "print(\"Coefficient of determination R^2 on train set: {}\".format(regressor.score(X_train, y_train)))"
      ],
      "execution_count": null,
      "outputs": [
        {
          "output_type": "stream",
          "name": "stdout",
          "text": [
            "Coefficient of determination R^2 on train set: 0.9559927604727047\n"
          ]
        }
      ]
    },
    {
      "cell_type": "code",
      "metadata": {
        "colab": {
          "base_uri": "https://localhost:8080/"
        },
        "id": "iYtmo66-UO2b",
        "outputId": "d5c8c2dd-7dc4-4942-a9f3-25595590c863"
      },
      "source": [
        "print(\"Coefficient of determination R^2 on test set: {}\".format(regressor.score(X_test, y_test)))"
      ],
      "execution_count": null,
      "outputs": [
        {
          "output_type": "stream",
          "name": "stdout",
          "text": [
            "Coefficient of determination R^2 on test set: 0.8705793781244634\n"
          ]
        }
      ]
    },
    {
      "cell_type": "code",
      "metadata": {
        "id": "NOSy3ZQ7USox"
      },
      "source": [
        "from sklearn.model_selection import cross_val_score\n",
        "score=cross_val_score(regressor,X,Y,cv=5)"
      ],
      "execution_count": null,
      "outputs": []
    },
    {
      "cell_type": "code",
      "metadata": {
        "colab": {
          "base_uri": "https://localhost:8080/"
        },
        "id": "lEjulAjIUpTX",
        "outputId": "d797c61f-f665-446b-b09c-27762c9b5c04"
      },
      "source": [
        "score.mean()"
      ],
      "execution_count": null,
      "outputs": [
        {
          "output_type": "execute_result",
          "data": {
            "text/plain": [
              "np.float64(0.6946925057386867)"
            ]
          },
          "metadata": {},
          "execution_count": 106
        }
      ]
    },
    {
      "cell_type": "code",
      "metadata": {
        "id": "KznLs8kffJ3F"
      },
      "source": [
        "pd.to_pickle(regressor,r'new_model_realtime.pickle')\n"
      ],
      "execution_count": null,
      "outputs": []
    },
    {
      "cell_type": "code",
      "metadata": {
        "id": "Yx1nDPywBmzZ"
      },
      "source": [
        "model = pd.read_pickle(r'new_model_realtime.pickle')"
      ],
      "execution_count": null,
      "outputs": []
    },
    {
      "cell_type": "code",
      "metadata": {
        "id": "2Dt8n70RQKH0"
      },
      "source": [
        "import requests\n",
        "\n",
        "base_url = \"https://api.waqi.info\"\n",
        "\n",
        "# read secret token from file containing the token as a single string\n",
        "# you need to create this file if you want to reproduce this analysis\n",
        "token = open('/content/sample_data/waqitoken.txt').read()"
      ],
      "execution_count": null,
      "outputs": []
    },
    {
      "cell_type": "code",
      "metadata": {
        "id": "HbILpsnUQKKs",
        "colab": {
          "base_uri": "https://localhost:8080/",
          "height": 35
        },
        "outputId": "2217ec31-ef8e-4406-ab61-d47d07aa6148"
      },
      "source": [
        "city = 'Mumbai'\n",
        "name = 'Powai, Mumbai, India'\n",
        "r = requests.get(base_url + f\"/feed/{name}/?token={token}\")\n",
        "\"City: {}, Air quality index: {}\".format(r.json()['data']['city']['name'], r.json()['data']['aqi'])"
      ],
      "execution_count": null,
      "outputs": [
        {
          "output_type": "execute_result",
          "data": {
            "text/plain": [
              "'City: Powai, Mumbai, India, Air quality index: 163'"
            ],
            "application/vnd.google.colaboratory.intrinsic+json": {
              "type": "string"
            }
          },
          "metadata": {},
          "execution_count": 110
        }
      ]
    },
    {
      "cell_type": "code",
      "metadata": {
        "id": "5CVmILGRGDLJ",
        "colab": {
          "base_uri": "https://localhost:8080/",
          "height": 35
        },
        "outputId": "dd36cba4-0d58-4ae1-ad0c-276eab175d4a"
      },
      "source": [
        "city = 'Gandhinagar'\n",
        "# name = 'Mahape, Navi Mumbai, India'\n",
        "r = requests.get(base_url + f\"/feed/{city}/?token={token}\")\n",
        "\"City: {}, Air quality index: {}\".format(r.json()['data']['city']['name'], r.json()['data']['aqi'])"
      ],
      "execution_count": null,
      "outputs": [
        {
          "output_type": "execute_result",
          "data": {
            "text/plain": [
              "'City: IIPHG Lekawada, Gandhinagar, India, Air quality index: 48'"
            ],
            "application/vnd.google.colaboratory.intrinsic+json": {
              "type": "string"
            }
          },
          "metadata": {},
          "execution_count": 111
        }
      ]
    },
    {
      "cell_type": "code",
      "metadata": {
        "id": "H-8XQOHdCxHv",
        "colab": {
          "base_uri": "https://localhost:8080/",
          "height": 108
        },
        "outputId": "e37420b5-e180-4327-9ef2-d591d1949f11",
        "collapsed": true
      },
      "source": [
        "https://api.waqi.info/feed/Mumbai/?token=49979a07221b1ab6781c500a5eaa6e1de513d476"
      ],
      "execution_count": null,
      "outputs": [
        {
          "output_type": "error",
          "ename": "SyntaxError",
          "evalue": "invalid decimal literal (ipython-input-4050892676.py, line 1)",
          "traceback": [
            "\u001b[0;36m  File \u001b[0;32m\"/tmp/ipython-input-4050892676.py\"\u001b[0;36m, line \u001b[0;32m1\u001b[0m\n\u001b[0;31m    https://api.waqi.info/feed/Mumbai/?token=49979a07221b1ab6781c500a5eaa6e1de513d476\u001b[0m\n\u001b[0m                                                 ^\u001b[0m\n\u001b[0;31mSyntaxError\u001b[0m\u001b[0;31m:\u001b[0m invalid decimal literal\n"
          ]
        }
      ]
    },
    {
      "cell_type": "code",
      "metadata": {
        "id": "VbsqxJqtF-c6",
        "colab": {
          "base_uri": "https://localhost:8080/",
          "height": 108
        },
        "collapsed": true,
        "outputId": "cdaec2b4-0265-4f70-ecd1-53b3c611375c"
      },
      "source": [
        "https://api.waqi.info/feed/sagar/?token=49979a07221b1ab6781c500a5eaa6e1de513d476"
      ],
      "execution_count": null,
      "outputs": [
        {
          "output_type": "error",
          "ename": "SyntaxError",
          "evalue": "invalid decimal literal (ipython-input-1708630149.py, line 1)",
          "traceback": [
            "\u001b[0;36m  File \u001b[0;32m\"/tmp/ipython-input-1708630149.py\"\u001b[0;36m, line \u001b[0;32m1\u001b[0m\n\u001b[0;31m    https://api.waqi.info/feed/sagar/?token=49979a07221b1ab6781c500a5eaa6e1de513d476\u001b[0m\n\u001b[0m                                                ^\u001b[0m\n\u001b[0;31mSyntaxError\u001b[0m\u001b[0;31m:\u001b[0m invalid decimal literal\n"
          ]
        }
      ]
    },
    {
      "cell_type": "code",
      "metadata": {
        "id": "49opz6soYXAn",
        "colab": {
          "base_uri": "https://localhost:8080/",
          "height": 161
        },
        "collapsed": true,
        "outputId": "79b8d033-d668-483a-bc20-f3933783ce43"
      },
      "source": [
        "# city = 'Sagar'\n",
        "name = 'Deen Dayal Nagar, Sagar, India'\n",
        "r = requests.get(base_url + f\"/feed/{name}/?token={token}\")\n",
        "\"City: {}, Air quality index: {}\".format(r.json()['data']['city']['name'], r.json()['data']['forecast']['daily'])\n"
      ],
      "execution_count": null,
      "outputs": [
        {
          "output_type": "execute_result",
          "data": {
            "text/plain": [
              "\"City: Deen Dayal Nagar, Sagar, India, Air quality index: {'pm10': [{'avg': 46, 'day': '2025-08-15', 'max': 46, 'min': 46}, {'avg': 46, 'day': '2025-08-16', 'max': 46, 'min': 46}, {'avg': 26, 'day': '2025-08-17', 'max': 46, 'min': 19}, {'avg': 27, 'day': '2025-08-18', 'max': 28, 'min': 19}, {'avg': 34, 'day': '2025-08-19', 'max': 46, 'min': 28}, {'avg': 30, 'day': '2025-08-20', 'max': 40, 'min': 28}, {'avg': 28, 'day': '2025-08-21', 'max': 46, 'min': 19}, {'avg': 23, 'day': '2025-08-22', 'max': 28, 'min': 19}, {'avg': 27, 'day': '2025-08-23', 'max': 28, 'min': 19}], 'pm25': [{'avg': 138, 'day': '2025-08-15', 'max': 138, 'min': 138}, {'avg': 138, 'day': '2025-08-16', 'max': 138, 'min': 89}, {'avg': 86, 'day': '2025-08-17', 'max': 138, 'min': 68}, {'avg': 84, 'day': '2025-08-18', 'max': 89, 'min': 68}, {'avg': 92, 'day': '2025-08-19', 'max': 105, 'min': 89}, {'avg': 90, 'day': '2025-08-20', 'max': 109, 'min': 68}, {'avg': 87, 'day': '2025-08-21', 'max': 138, 'min': 68}, {'avg': 73, 'day': '2025-08-22', 'max': 89, 'min': 68}, {'avg': 86, 'day': '2025-08-23', 'max': 89, 'min': 68}], 'uvi': [{'avg': 2, 'day': '2025-08-15', 'max': 6, 'min': 0}, {'avg': 1, 'day': '2025-08-16', 'max': 5, 'min': 0}, {'avg': 2, 'day': '2025-08-17', 'max': 7, 'min': 0}, {'avg': 2, 'day': '2025-08-18', 'max': 6, 'min': 0}, {'avg': 1, 'day': '2025-08-19', 'max': 4, 'min': 0}, {'avg': 2, 'day': '2025-08-20', 'max': 6, 'min': 0}, {'avg': 2, 'day': '2025-08-21', 'max': 5, 'min': 0}]}\""
            ],
            "application/vnd.google.colaboratory.intrinsic+json": {
              "type": "string"
            }
          },
          "metadata": {},
          "execution_count": 112
        }
      ]
    },
    {
      "cell_type": "code",
      "source": [
        "r.json()['data']['forecast']['daily']"
      ],
      "metadata": {
        "colab": {
          "base_uri": "https://localhost:8080/"
        },
        "collapsed": true,
        "id": "IqjNVkgz4T5r",
        "outputId": "35257aac-4d5e-4fc2-cf4a-849a9678a0ae"
      },
      "execution_count": null,
      "outputs": [
        {
          "output_type": "execute_result",
          "data": {
            "text/plain": [
              "{'pm10': [{'avg': 46, 'day': '2025-08-15', 'max': 46, 'min': 46},\n",
              "  {'avg': 46, 'day': '2025-08-16', 'max': 46, 'min': 46},\n",
              "  {'avg': 26, 'day': '2025-08-17', 'max': 46, 'min': 19},\n",
              "  {'avg': 27, 'day': '2025-08-18', 'max': 28, 'min': 19},\n",
              "  {'avg': 34, 'day': '2025-08-19', 'max': 46, 'min': 28},\n",
              "  {'avg': 30, 'day': '2025-08-20', 'max': 40, 'min': 28},\n",
              "  {'avg': 28, 'day': '2025-08-21', 'max': 46, 'min': 19},\n",
              "  {'avg': 23, 'day': '2025-08-22', 'max': 28, 'min': 19},\n",
              "  {'avg': 27, 'day': '2025-08-23', 'max': 28, 'min': 19}],\n",
              " 'pm25': [{'avg': 138, 'day': '2025-08-15', 'max': 138, 'min': 138},\n",
              "  {'avg': 138, 'day': '2025-08-16', 'max': 138, 'min': 89},\n",
              "  {'avg': 86, 'day': '2025-08-17', 'max': 138, 'min': 68},\n",
              "  {'avg': 84, 'day': '2025-08-18', 'max': 89, 'min': 68},\n",
              "  {'avg': 92, 'day': '2025-08-19', 'max': 105, 'min': 89},\n",
              "  {'avg': 90, 'day': '2025-08-20', 'max': 109, 'min': 68},\n",
              "  {'avg': 87, 'day': '2025-08-21', 'max': 138, 'min': 68},\n",
              "  {'avg': 73, 'day': '2025-08-22', 'max': 89, 'min': 68},\n",
              "  {'avg': 86, 'day': '2025-08-23', 'max': 89, 'min': 68}],\n",
              " 'uvi': [{'avg': 2, 'day': '2025-08-15', 'max': 6, 'min': 0},\n",
              "  {'avg': 1, 'day': '2025-08-16', 'max': 5, 'min': 0},\n",
              "  {'avg': 2, 'day': '2025-08-17', 'max': 7, 'min': 0},\n",
              "  {'avg': 2, 'day': '2025-08-18', 'max': 6, 'min': 0},\n",
              "  {'avg': 1, 'day': '2025-08-19', 'max': 4, 'min': 0},\n",
              "  {'avg': 2, 'day': '2025-08-20', 'max': 6, 'min': 0},\n",
              "  {'avg': 2, 'day': '2025-08-21', 'max': 5, 'min': 0}]}"
            ]
          },
          "metadata": {},
          "execution_count": 113
        }
      ]
    },
    {
      "cell_type": "code",
      "source": [
        "r.json()['data']['forecast']['daily']['pm10'][1]['avg']"
      ],
      "metadata": {
        "colab": {
          "base_uri": "https://localhost:8080/"
        },
        "id": "gU2rBLLV5IkI",
        "outputId": "675313dd-7b66-4152-9bf7-e6dc83e92c54"
      },
      "execution_count": null,
      "outputs": [
        {
          "output_type": "execute_result",
          "data": {
            "text/plain": [
              "46"
            ]
          },
          "metadata": {},
          "execution_count": 114
        }
      ]
    },
    {
      "cell_type": "code",
      "source": [
        "r.json()['data']['forecast']['daily']['pm10'][1]['day']"
      ],
      "metadata": {
        "colab": {
          "base_uri": "https://localhost:8080/",
          "height": 35
        },
        "id": "v40Woxdc5N4W",
        "outputId": "c2c1f0d6-ea81-4dfc-f0ec-f72c63ad0243"
      },
      "execution_count": null,
      "outputs": [
        {
          "output_type": "execute_result",
          "data": {
            "text/plain": [
              "'2025-08-16'"
            ],
            "application/vnd.google.colaboratory.intrinsic+json": {
              "type": "string"
            }
          },
          "metadata": {},
          "execution_count": 115
        }
      ]
    },
    {
      "cell_type": "code",
      "metadata": {
        "id": "7Tu-Q5j0IJ63"
      },
      "source": [
        "# city = 'Sagar'\n",
        "name = 'Deen Dayal Nagar, Sagar, India'\n",
        "r = requests.get(base_url + f\"/feed/{name}/?token={token}\")\n",
        "# type(r.json()['data']['forecast']['daily']['o3'][0])\n",
        "avg, date, max, min = (r.json()['data']['forecast']['daily']['pm10'][1]['avg'],r.json()['data']['forecast']['daily']['pm10'][1]['day'],r.json()['data']['forecast']['daily']['pm10'][1]['max'],r.json()['data']['forecast']['daily']['pm10'][1]['min'])\n",
        "l = [date, avg, max, min]"
      ],
      "execution_count": null,
      "outputs": []
    },
    {
      "cell_type": "code",
      "metadata": {
        "id": "V8WQi5GLXY5c"
      },
      "source": [
        "o = [{'avg': 11, 'day': '2021-06-14', 'max': 14, 'min': 8}, {'avg': 11, 'day': '2021-06-15', 'max': 15, 'min': 9}, {'avg': 7, 'day': '2021-06-16', 'max': 12, 'min': 5}, {'avg': 8, 'day': '2021-06-17', 'max': 12, 'min': 4}, {'avg': 10, 'day': '2021-06-18', 'max': 14, 'min': 7}, {'avg': 10, 'day': '2021-06-19', 'max': 14, 'min': 6}, {'avg': 11, 'day': '2021-06-20', 'max': 11, 'min': 10}]"
      ],
      "execution_count": null,
      "outputs": []
    },
    {
      "cell_type": "code",
      "metadata": {
        "id": "-mxzdS3fXdob",
        "colab": {
          "base_uri": "https://localhost:8080/"
        },
        "outputId": "ea0dedd3-104a-445e-8606-47c930f2aa15"
      },
      "source": [
        "len(o)"
      ],
      "execution_count": null,
      "outputs": [
        {
          "output_type": "execute_result",
          "data": {
            "text/plain": [
              "7"
            ]
          },
          "metadata": {},
          "execution_count": 118
        }
      ]
    },
    {
      "cell_type": "code",
      "metadata": {
        "id": "xTnhqzP3XM-k",
        "colab": {
          "base_uri": "https://localhost:8080/"
        },
        "collapsed": true,
        "outputId": "8398fce1-86e8-4b93-dbfa-7c276d6c6a4e"
      },
      "source": [
        "weekly_data = {'Date':[],'Avg':[], 'Max':[], 'Min':[]}\n",
        "\n",
        "for i in range(7):\n",
        "  avg, date, max, min = (r.json()['data']['forecast']['daily']['pm10'][i]['avg'],r.json()['data']['forecast']['daily']['pm10'][i]['day'],r.json()['data']['forecast']['daily']['pm10'][i]['max'],r.json()['data']['forecast']['daily']['pm10'][i]['min'])\n",
        "  obervations = [date, avg, max, min]\n",
        "  i = 0\n",
        "  for key in weekly_data:\n",
        "    weekly_data[key].append(obervations[i])\n",
        "    print('weekly data ', weekly_data)\n",
        "    i+=1\n",
        "\n"
      ],
      "execution_count": null,
      "outputs": [
        {
          "output_type": "stream",
          "name": "stdout",
          "text": [
            "weekly data  {'Date': ['2025-08-15'], 'Avg': [], 'Max': [], 'Min': []}\n",
            "weekly data  {'Date': ['2025-08-15'], 'Avg': [46], 'Max': [], 'Min': []}\n",
            "weekly data  {'Date': ['2025-08-15'], 'Avg': [46], 'Max': [46], 'Min': []}\n",
            "weekly data  {'Date': ['2025-08-15'], 'Avg': [46], 'Max': [46], 'Min': [46]}\n",
            "weekly data  {'Date': ['2025-08-15', '2025-08-16'], 'Avg': [46], 'Max': [46], 'Min': [46]}\n",
            "weekly data  {'Date': ['2025-08-15', '2025-08-16'], 'Avg': [46, 46], 'Max': [46], 'Min': [46]}\n",
            "weekly data  {'Date': ['2025-08-15', '2025-08-16'], 'Avg': [46, 46], 'Max': [46, 46], 'Min': [46]}\n",
            "weekly data  {'Date': ['2025-08-15', '2025-08-16'], 'Avg': [46, 46], 'Max': [46, 46], 'Min': [46, 46]}\n",
            "weekly data  {'Date': ['2025-08-15', '2025-08-16', '2025-08-17'], 'Avg': [46, 46], 'Max': [46, 46], 'Min': [46, 46]}\n",
            "weekly data  {'Date': ['2025-08-15', '2025-08-16', '2025-08-17'], 'Avg': [46, 46, 26], 'Max': [46, 46], 'Min': [46, 46]}\n",
            "weekly data  {'Date': ['2025-08-15', '2025-08-16', '2025-08-17'], 'Avg': [46, 46, 26], 'Max': [46, 46, 46], 'Min': [46, 46]}\n",
            "weekly data  {'Date': ['2025-08-15', '2025-08-16', '2025-08-17'], 'Avg': [46, 46, 26], 'Max': [46, 46, 46], 'Min': [46, 46, 19]}\n",
            "weekly data  {'Date': ['2025-08-15', '2025-08-16', '2025-08-17', '2025-08-18'], 'Avg': [46, 46, 26], 'Max': [46, 46, 46], 'Min': [46, 46, 19]}\n",
            "weekly data  {'Date': ['2025-08-15', '2025-08-16', '2025-08-17', '2025-08-18'], 'Avg': [46, 46, 26, 27], 'Max': [46, 46, 46], 'Min': [46, 46, 19]}\n",
            "weekly data  {'Date': ['2025-08-15', '2025-08-16', '2025-08-17', '2025-08-18'], 'Avg': [46, 46, 26, 27], 'Max': [46, 46, 46, 28], 'Min': [46, 46, 19]}\n",
            "weekly data  {'Date': ['2025-08-15', '2025-08-16', '2025-08-17', '2025-08-18'], 'Avg': [46, 46, 26, 27], 'Max': [46, 46, 46, 28], 'Min': [46, 46, 19, 19]}\n",
            "weekly data  {'Date': ['2025-08-15', '2025-08-16', '2025-08-17', '2025-08-18', '2025-08-19'], 'Avg': [46, 46, 26, 27], 'Max': [46, 46, 46, 28], 'Min': [46, 46, 19, 19]}\n",
            "weekly data  {'Date': ['2025-08-15', '2025-08-16', '2025-08-17', '2025-08-18', '2025-08-19'], 'Avg': [46, 46, 26, 27, 34], 'Max': [46, 46, 46, 28], 'Min': [46, 46, 19, 19]}\n",
            "weekly data  {'Date': ['2025-08-15', '2025-08-16', '2025-08-17', '2025-08-18', '2025-08-19'], 'Avg': [46, 46, 26, 27, 34], 'Max': [46, 46, 46, 28, 46], 'Min': [46, 46, 19, 19]}\n",
            "weekly data  {'Date': ['2025-08-15', '2025-08-16', '2025-08-17', '2025-08-18', '2025-08-19'], 'Avg': [46, 46, 26, 27, 34], 'Max': [46, 46, 46, 28, 46], 'Min': [46, 46, 19, 19, 28]}\n",
            "weekly data  {'Date': ['2025-08-15', '2025-08-16', '2025-08-17', '2025-08-18', '2025-08-19', '2025-08-20'], 'Avg': [46, 46, 26, 27, 34], 'Max': [46, 46, 46, 28, 46], 'Min': [46, 46, 19, 19, 28]}\n",
            "weekly data  {'Date': ['2025-08-15', '2025-08-16', '2025-08-17', '2025-08-18', '2025-08-19', '2025-08-20'], 'Avg': [46, 46, 26, 27, 34, 30], 'Max': [46, 46, 46, 28, 46], 'Min': [46, 46, 19, 19, 28]}\n",
            "weekly data  {'Date': ['2025-08-15', '2025-08-16', '2025-08-17', '2025-08-18', '2025-08-19', '2025-08-20'], 'Avg': [46, 46, 26, 27, 34, 30], 'Max': [46, 46, 46, 28, 46, 40], 'Min': [46, 46, 19, 19, 28]}\n",
            "weekly data  {'Date': ['2025-08-15', '2025-08-16', '2025-08-17', '2025-08-18', '2025-08-19', '2025-08-20'], 'Avg': [46, 46, 26, 27, 34, 30], 'Max': [46, 46, 46, 28, 46, 40], 'Min': [46, 46, 19, 19, 28, 28]}\n",
            "weekly data  {'Date': ['2025-08-15', '2025-08-16', '2025-08-17', '2025-08-18', '2025-08-19', '2025-08-20', '2025-08-21'], 'Avg': [46, 46, 26, 27, 34, 30], 'Max': [46, 46, 46, 28, 46, 40], 'Min': [46, 46, 19, 19, 28, 28]}\n",
            "weekly data  {'Date': ['2025-08-15', '2025-08-16', '2025-08-17', '2025-08-18', '2025-08-19', '2025-08-20', '2025-08-21'], 'Avg': [46, 46, 26, 27, 34, 30, 28], 'Max': [46, 46, 46, 28, 46, 40], 'Min': [46, 46, 19, 19, 28, 28]}\n",
            "weekly data  {'Date': ['2025-08-15', '2025-08-16', '2025-08-17', '2025-08-18', '2025-08-19', '2025-08-20', '2025-08-21'], 'Avg': [46, 46, 26, 27, 34, 30, 28], 'Max': [46, 46, 46, 28, 46, 40, 46], 'Min': [46, 46, 19, 19, 28, 28]}\n",
            "weekly data  {'Date': ['2025-08-15', '2025-08-16', '2025-08-17', '2025-08-18', '2025-08-19', '2025-08-20', '2025-08-21'], 'Avg': [46, 46, 26, 27, 34, 30, 28], 'Max': [46, 46, 46, 28, 46, 40, 46], 'Min': [46, 46, 19, 19, 28, 28, 19]}\n"
          ]
        }
      ]
    },
    {
      "cell_type": "code",
      "metadata": {
        "id": "0DpsGuy8HsfE",
        "colab": {
          "base_uri": "https://localhost:8080/"
        },
        "outputId": "d6db34d4-7c07-462f-ed6f-e90906b6cdd8"
      },
      "source": [
        "pollutants = ['pm25', 'pm10']\n",
        "obs_val = [[],[],[]]\n",
        "\n",
        "for index,j in enumerate(pollutants):\n",
        "  # print(index,j)\n",
        "  for i in range(7):\n",
        "    avg, date, max, min = (r.json()['data']['forecast']['daily'][j][i]['avg'],\n",
        "                            r.json()['data']['forecast']['daily'][j][i]['day'],\n",
        "                            r.json()['data']['forecast']['daily'][j][i]['max'],\n",
        "                            r.json()['data']['forecast']['daily'][j][i]['min'])\n",
        "    # print([avg, max, min, date])\n",
        "    obs_val[index].append([avg, max, min, date])\n",
        "# print(\"obs\",obs_val)\n",
        "# print(len(obs_val))\n",
        "\n",
        "# obs_val[1][1][3]\n",
        "\n",
        "temp_l = [[],[],[],[],[],[],[]]\n",
        "for k in range(7):\n",
        "    temp_l[k].append(obs_val[0][k][3])\n",
        "    for m in range(0,3):\n",
        "\n",
        "        l = []\n",
        "        for n in range(0,2):\n",
        "            l.append(obs_val[n][k][m])\n",
        "        l.append(0)\n",
        "        calculate_aqi = model.predict([l])\n",
        "        temp_l[k].append(round(calculate_aqi[0],2))\n",
        "print(\"temp \",temp_l)\n",
        "\n",
        "# weekly_data = {'avg_val': [], 'Max': [], 'Min': [], 'Date': []}\n",
        "\n",
        "# for i in temp_l:\n",
        "#   weekly_data['Date'].append(str(i[0]))\n",
        "#   weekly_data['avg_val'].append(str(i[1]))\n",
        "#   weekly_data['Max'].append(str(i[2]))\n",
        "#   weekly_data['Min'].append(str(i[3]))\n",
        "\n",
        "\n",
        "# print(weekly_data)\n",
        "\n"
      ],
      "execution_count": null,
      "outputs": [
        {
          "output_type": "stream",
          "name": "stdout",
          "text": [
            "temp  [['2025-08-15', np.float64(173.31), np.float64(173.31), np.float64(173.31)], ['2025-08-16', np.float64(173.31), np.float64(173.31), np.float64(147.72)], ['2025-08-17', np.float64(148.63), np.float64(173.31), np.float64(74.87)], ['2025-08-18', np.float64(148.29), np.float64(148.63), np.float64(74.87)], ['2025-08-19', np.float64(148.63), np.float64(154.54), np.float64(148.63)], ['2025-08-20', np.float64(148.63), np.float64(158.83), np.float64(74.87)], ['2025-08-21', np.float64(148.63), np.float64(173.31), np.float64(74.87)]]\n"
          ]
        }
      ]
    },
    {
      "cell_type": "code",
      "metadata": {
        "id": "eW8jHiBjShpM",
        "colab": {
          "base_uri": "https://localhost:8080/"
        },
        "outputId": "5af4cf76-af44-4972-fdcd-293021ef81ed"
      },
      "source": [
        "c_aqi = model.predict([[138,65,1]])\n",
        "c_aqi"
      ],
      "execution_count": null,
      "outputs": [
        {
          "output_type": "execute_result",
          "data": {
            "text/plain": [
              "array([183.87457742])"
            ]
          },
          "metadata": {},
          "execution_count": 139
        }
      ]
    },
    {
      "cell_type": "code",
      "metadata": {
        "id": "BN_0B4t9HsiH",
        "colab": {
          "base_uri": "https://localhost:8080/"
        },
        "outputId": "d584f60d-2676-4587-bad5-70414b4f001b"
      },
      "source": [
        "print(temp_l)\n",
        "data = pd.DataFrame(temp_l, columns=['Date', 'Avg', 'Max', 'Min'])"
      ],
      "execution_count": null,
      "outputs": [
        {
          "output_type": "stream",
          "name": "stdout",
          "text": [
            "[['2025-08-15', np.float64(173.31), np.float64(173.31), np.float64(173.31)], ['2025-08-16', np.float64(173.31), np.float64(173.31), np.float64(147.72)], ['2025-08-17', np.float64(148.63), np.float64(173.31), np.float64(74.87)], ['2025-08-18', np.float64(148.29), np.float64(148.63), np.float64(74.87)], ['2025-08-19', np.float64(148.63), np.float64(154.54), np.float64(148.63)], ['2025-08-20', np.float64(148.63), np.float64(158.83), np.float64(74.87)], ['2025-08-21', np.float64(148.63), np.float64(173.31), np.float64(74.87)]]\n"
          ]
        }
      ]
    },
    {
      "cell_type": "code",
      "metadata": {
        "id": "CAr-qcmJHsxY",
        "colab": {
          "base_uri": "https://localhost:8080/",
          "height": 269
        },
        "outputId": "8f1254a5-e544-412e-d819-5e975aa65bad"
      },
      "source": [
        "data"
      ],
      "execution_count": null,
      "outputs": [
        {
          "output_type": "execute_result",
          "data": {
            "text/plain": [
              "         Date     Avg     Max     Min\n",
              "0  2025-08-15  173.31  173.31  173.31\n",
              "1  2025-08-16  173.31  173.31  147.72\n",
              "2  2025-08-17  148.63  173.31   74.87\n",
              "3  2025-08-18  148.29  148.63   74.87\n",
              "4  2025-08-19  148.63  154.54  148.63\n",
              "5  2025-08-20  148.63  158.83   74.87\n",
              "6  2025-08-21  148.63  173.31   74.87"
            ],
            "text/html": [
              "\n",
              "  <div id=\"df-2c85b0bc-1936-4f23-85a5-96b01e1698c6\" class=\"colab-df-container\">\n",
              "    <div>\n",
              "<style scoped>\n",
              "    .dataframe tbody tr th:only-of-type {\n",
              "        vertical-align: middle;\n",
              "    }\n",
              "\n",
              "    .dataframe tbody tr th {\n",
              "        vertical-align: top;\n",
              "    }\n",
              "\n",
              "    .dataframe thead th {\n",
              "        text-align: right;\n",
              "    }\n",
              "</style>\n",
              "<table border=\"1\" class=\"dataframe\">\n",
              "  <thead>\n",
              "    <tr style=\"text-align: right;\">\n",
              "      <th></th>\n",
              "      <th>Date</th>\n",
              "      <th>Avg</th>\n",
              "      <th>Max</th>\n",
              "      <th>Min</th>\n",
              "    </tr>\n",
              "  </thead>\n",
              "  <tbody>\n",
              "    <tr>\n",
              "      <th>0</th>\n",
              "      <td>2025-08-15</td>\n",
              "      <td>173.31</td>\n",
              "      <td>173.31</td>\n",
              "      <td>173.31</td>\n",
              "    </tr>\n",
              "    <tr>\n",
              "      <th>1</th>\n",
              "      <td>2025-08-16</td>\n",
              "      <td>173.31</td>\n",
              "      <td>173.31</td>\n",
              "      <td>147.72</td>\n",
              "    </tr>\n",
              "    <tr>\n",
              "      <th>2</th>\n",
              "      <td>2025-08-17</td>\n",
              "      <td>148.63</td>\n",
              "      <td>173.31</td>\n",
              "      <td>74.87</td>\n",
              "    </tr>\n",
              "    <tr>\n",
              "      <th>3</th>\n",
              "      <td>2025-08-18</td>\n",
              "      <td>148.29</td>\n",
              "      <td>148.63</td>\n",
              "      <td>74.87</td>\n",
              "    </tr>\n",
              "    <tr>\n",
              "      <th>4</th>\n",
              "      <td>2025-08-19</td>\n",
              "      <td>148.63</td>\n",
              "      <td>154.54</td>\n",
              "      <td>148.63</td>\n",
              "    </tr>\n",
              "    <tr>\n",
              "      <th>5</th>\n",
              "      <td>2025-08-20</td>\n",
              "      <td>148.63</td>\n",
              "      <td>158.83</td>\n",
              "      <td>74.87</td>\n",
              "    </tr>\n",
              "    <tr>\n",
              "      <th>6</th>\n",
              "      <td>2025-08-21</td>\n",
              "      <td>148.63</td>\n",
              "      <td>173.31</td>\n",
              "      <td>74.87</td>\n",
              "    </tr>\n",
              "  </tbody>\n",
              "</table>\n",
              "</div>\n",
              "    <div class=\"colab-df-buttons\">\n",
              "\n",
              "  <div class=\"colab-df-container\">\n",
              "    <button class=\"colab-df-convert\" onclick=\"convertToInteractive('df-2c85b0bc-1936-4f23-85a5-96b01e1698c6')\"\n",
              "            title=\"Convert this dataframe to an interactive table.\"\n",
              "            style=\"display:none;\">\n",
              "\n",
              "  <svg xmlns=\"http://www.w3.org/2000/svg\" height=\"24px\" viewBox=\"0 -960 960 960\">\n",
              "    <path d=\"M120-120v-720h720v720H120Zm60-500h600v-160H180v160Zm220 220h160v-160H400v160Zm0 220h160v-160H400v160ZM180-400h160v-160H180v160Zm440 0h160v-160H620v160ZM180-180h160v-160H180v160Zm440 0h160v-160H620v160Z\"/>\n",
              "  </svg>\n",
              "    </button>\n",
              "\n",
              "  <style>\n",
              "    .colab-df-container {\n",
              "      display:flex;\n",
              "      gap: 12px;\n",
              "    }\n",
              "\n",
              "    .colab-df-convert {\n",
              "      background-color: #E8F0FE;\n",
              "      border: none;\n",
              "      border-radius: 50%;\n",
              "      cursor: pointer;\n",
              "      display: none;\n",
              "      fill: #1967D2;\n",
              "      height: 32px;\n",
              "      padding: 0 0 0 0;\n",
              "      width: 32px;\n",
              "    }\n",
              "\n",
              "    .colab-df-convert:hover {\n",
              "      background-color: #E2EBFA;\n",
              "      box-shadow: 0px 1px 2px rgba(60, 64, 67, 0.3), 0px 1px 3px 1px rgba(60, 64, 67, 0.15);\n",
              "      fill: #174EA6;\n",
              "    }\n",
              "\n",
              "    .colab-df-buttons div {\n",
              "      margin-bottom: 4px;\n",
              "    }\n",
              "\n",
              "    [theme=dark] .colab-df-convert {\n",
              "      background-color: #3B4455;\n",
              "      fill: #D2E3FC;\n",
              "    }\n",
              "\n",
              "    [theme=dark] .colab-df-convert:hover {\n",
              "      background-color: #434B5C;\n",
              "      box-shadow: 0px 1px 3px 1px rgba(0, 0, 0, 0.15);\n",
              "      filter: drop-shadow(0px 1px 2px rgba(0, 0, 0, 0.3));\n",
              "      fill: #FFFFFF;\n",
              "    }\n",
              "  </style>\n",
              "\n",
              "    <script>\n",
              "      const buttonEl =\n",
              "        document.querySelector('#df-2c85b0bc-1936-4f23-85a5-96b01e1698c6 button.colab-df-convert');\n",
              "      buttonEl.style.display =\n",
              "        google.colab.kernel.accessAllowed ? 'block' : 'none';\n",
              "\n",
              "      async function convertToInteractive(key) {\n",
              "        const element = document.querySelector('#df-2c85b0bc-1936-4f23-85a5-96b01e1698c6');\n",
              "        const dataTable =\n",
              "          await google.colab.kernel.invokeFunction('convertToInteractive',\n",
              "                                                    [key], {});\n",
              "        if (!dataTable) return;\n",
              "\n",
              "        const docLinkHtml = 'Like what you see? Visit the ' +\n",
              "          '<a target=\"_blank\" href=https://colab.research.google.com/notebooks/data_table.ipynb>data table notebook</a>'\n",
              "          + ' to learn more about interactive tables.';\n",
              "        element.innerHTML = '';\n",
              "        dataTable['output_type'] = 'display_data';\n",
              "        await google.colab.output.renderOutput(dataTable, element);\n",
              "        const docLink = document.createElement('div');\n",
              "        docLink.innerHTML = docLinkHtml;\n",
              "        element.appendChild(docLink);\n",
              "      }\n",
              "    </script>\n",
              "  </div>\n",
              "\n",
              "\n",
              "    <div id=\"df-1230aaf1-c766-4589-9c84-ed12d8faf8f1\">\n",
              "      <button class=\"colab-df-quickchart\" onclick=\"quickchart('df-1230aaf1-c766-4589-9c84-ed12d8faf8f1')\"\n",
              "                title=\"Suggest charts\"\n",
              "                style=\"display:none;\">\n",
              "\n",
              "<svg xmlns=\"http://www.w3.org/2000/svg\" height=\"24px\"viewBox=\"0 0 24 24\"\n",
              "     width=\"24px\">\n",
              "    <g>\n",
              "        <path d=\"M19 3H5c-1.1 0-2 .9-2 2v14c0 1.1.9 2 2 2h14c1.1 0 2-.9 2-2V5c0-1.1-.9-2-2-2zM9 17H7v-7h2v7zm4 0h-2V7h2v10zm4 0h-2v-4h2v4z\"/>\n",
              "    </g>\n",
              "</svg>\n",
              "      </button>\n",
              "\n",
              "<style>\n",
              "  .colab-df-quickchart {\n",
              "      --bg-color: #E8F0FE;\n",
              "      --fill-color: #1967D2;\n",
              "      --hover-bg-color: #E2EBFA;\n",
              "      --hover-fill-color: #174EA6;\n",
              "      --disabled-fill-color: #AAA;\n",
              "      --disabled-bg-color: #DDD;\n",
              "  }\n",
              "\n",
              "  [theme=dark] .colab-df-quickchart {\n",
              "      --bg-color: #3B4455;\n",
              "      --fill-color: #D2E3FC;\n",
              "      --hover-bg-color: #434B5C;\n",
              "      --hover-fill-color: #FFFFFF;\n",
              "      --disabled-bg-color: #3B4455;\n",
              "      --disabled-fill-color: #666;\n",
              "  }\n",
              "\n",
              "  .colab-df-quickchart {\n",
              "    background-color: var(--bg-color);\n",
              "    border: none;\n",
              "    border-radius: 50%;\n",
              "    cursor: pointer;\n",
              "    display: none;\n",
              "    fill: var(--fill-color);\n",
              "    height: 32px;\n",
              "    padding: 0;\n",
              "    width: 32px;\n",
              "  }\n",
              "\n",
              "  .colab-df-quickchart:hover {\n",
              "    background-color: var(--hover-bg-color);\n",
              "    box-shadow: 0 1px 2px rgba(60, 64, 67, 0.3), 0 1px 3px 1px rgba(60, 64, 67, 0.15);\n",
              "    fill: var(--button-hover-fill-color);\n",
              "  }\n",
              "\n",
              "  .colab-df-quickchart-complete:disabled,\n",
              "  .colab-df-quickchart-complete:disabled:hover {\n",
              "    background-color: var(--disabled-bg-color);\n",
              "    fill: var(--disabled-fill-color);\n",
              "    box-shadow: none;\n",
              "  }\n",
              "\n",
              "  .colab-df-spinner {\n",
              "    border: 2px solid var(--fill-color);\n",
              "    border-color: transparent;\n",
              "    border-bottom-color: var(--fill-color);\n",
              "    animation:\n",
              "      spin 1s steps(1) infinite;\n",
              "  }\n",
              "\n",
              "  @keyframes spin {\n",
              "    0% {\n",
              "      border-color: transparent;\n",
              "      border-bottom-color: var(--fill-color);\n",
              "      border-left-color: var(--fill-color);\n",
              "    }\n",
              "    20% {\n",
              "      border-color: transparent;\n",
              "      border-left-color: var(--fill-color);\n",
              "      border-top-color: var(--fill-color);\n",
              "    }\n",
              "    30% {\n",
              "      border-color: transparent;\n",
              "      border-left-color: var(--fill-color);\n",
              "      border-top-color: var(--fill-color);\n",
              "      border-right-color: var(--fill-color);\n",
              "    }\n",
              "    40% {\n",
              "      border-color: transparent;\n",
              "      border-right-color: var(--fill-color);\n",
              "      border-top-color: var(--fill-color);\n",
              "    }\n",
              "    60% {\n",
              "      border-color: transparent;\n",
              "      border-right-color: var(--fill-color);\n",
              "    }\n",
              "    80% {\n",
              "      border-color: transparent;\n",
              "      border-right-color: var(--fill-color);\n",
              "      border-bottom-color: var(--fill-color);\n",
              "    }\n",
              "    90% {\n",
              "      border-color: transparent;\n",
              "      border-bottom-color: var(--fill-color);\n",
              "    }\n",
              "  }\n",
              "</style>\n",
              "\n",
              "      <script>\n",
              "        async function quickchart(key) {\n",
              "          const quickchartButtonEl =\n",
              "            document.querySelector('#' + key + ' button');\n",
              "          quickchartButtonEl.disabled = true;  // To prevent multiple clicks.\n",
              "          quickchartButtonEl.classList.add('colab-df-spinner');\n",
              "          try {\n",
              "            const charts = await google.colab.kernel.invokeFunction(\n",
              "                'suggestCharts', [key], {});\n",
              "          } catch (error) {\n",
              "            console.error('Error during call to suggestCharts:', error);\n",
              "          }\n",
              "          quickchartButtonEl.classList.remove('colab-df-spinner');\n",
              "          quickchartButtonEl.classList.add('colab-df-quickchart-complete');\n",
              "        }\n",
              "        (() => {\n",
              "          let quickchartButtonEl =\n",
              "            document.querySelector('#df-1230aaf1-c766-4589-9c84-ed12d8faf8f1 button');\n",
              "          quickchartButtonEl.style.display =\n",
              "            google.colab.kernel.accessAllowed ? 'block' : 'none';\n",
              "        })();\n",
              "      </script>\n",
              "    </div>\n",
              "\n",
              "  <div id=\"id_33ce9329-9c8e-454b-abd6-5609ebf2ebee\">\n",
              "    <style>\n",
              "      .colab-df-generate {\n",
              "        background-color: #E8F0FE;\n",
              "        border: none;\n",
              "        border-radius: 50%;\n",
              "        cursor: pointer;\n",
              "        display: none;\n",
              "        fill: #1967D2;\n",
              "        height: 32px;\n",
              "        padding: 0 0 0 0;\n",
              "        width: 32px;\n",
              "      }\n",
              "\n",
              "      .colab-df-generate:hover {\n",
              "        background-color: #E2EBFA;\n",
              "        box-shadow: 0px 1px 2px rgba(60, 64, 67, 0.3), 0px 1px 3px 1px rgba(60, 64, 67, 0.15);\n",
              "        fill: #174EA6;\n",
              "      }\n",
              "\n",
              "      [theme=dark] .colab-df-generate {\n",
              "        background-color: #3B4455;\n",
              "        fill: #D2E3FC;\n",
              "      }\n",
              "\n",
              "      [theme=dark] .colab-df-generate:hover {\n",
              "        background-color: #434B5C;\n",
              "        box-shadow: 0px 1px 3px 1px rgba(0, 0, 0, 0.15);\n",
              "        filter: drop-shadow(0px 1px 2px rgba(0, 0, 0, 0.3));\n",
              "        fill: #FFFFFF;\n",
              "      }\n",
              "    </style>\n",
              "    <button class=\"colab-df-generate\" onclick=\"generateWithVariable('data')\"\n",
              "            title=\"Generate code using this dataframe.\"\n",
              "            style=\"display:none;\">\n",
              "\n",
              "  <svg xmlns=\"http://www.w3.org/2000/svg\" height=\"24px\"viewBox=\"0 0 24 24\"\n",
              "       width=\"24px\">\n",
              "    <path d=\"M7,19H8.4L18.45,9,17,7.55,7,17.6ZM5,21V16.75L18.45,3.32a2,2,0,0,1,2.83,0l1.4,1.43a1.91,1.91,0,0,1,.58,1.4,1.91,1.91,0,0,1-.58,1.4L9.25,21ZM18.45,9,17,7.55Zm-12,3A5.31,5.31,0,0,0,4.9,8.1,5.31,5.31,0,0,0,1,6.5,5.31,5.31,0,0,0,4.9,4.9,5.31,5.31,0,0,0,6.5,1,5.31,5.31,0,0,0,8.1,4.9,5.31,5.31,0,0,0,12,6.5,5.46,5.46,0,0,0,6.5,12Z\"/>\n",
              "  </svg>\n",
              "    </button>\n",
              "    <script>\n",
              "      (() => {\n",
              "      const buttonEl =\n",
              "        document.querySelector('#id_33ce9329-9c8e-454b-abd6-5609ebf2ebee button.colab-df-generate');\n",
              "      buttonEl.style.display =\n",
              "        google.colab.kernel.accessAllowed ? 'block' : 'none';\n",
              "\n",
              "      buttonEl.onclick = () => {\n",
              "        google.colab.notebook.generateWithVariable('data');\n",
              "      }\n",
              "      })();\n",
              "    </script>\n",
              "  </div>\n",
              "\n",
              "    </div>\n",
              "  </div>\n"
            ],
            "application/vnd.google.colaboratory.intrinsic+json": {
              "type": "dataframe",
              "variable_name": "data",
              "summary": "{\n  \"name\": \"data\",\n  \"rows\": 7,\n  \"fields\": [\n    {\n      \"column\": \"Date\",\n      \"properties\": {\n        \"dtype\": \"object\",\n        \"num_unique_values\": 7,\n        \"samples\": [\n          \"2025-08-15\",\n          \"2025-08-16\",\n          \"2025-08-20\"\n        ],\n        \"semantic_type\": \"\",\n        \"description\": \"\"\n      }\n    },\n    {\n      \"column\": \"Avg\",\n      \"properties\": {\n        \"dtype\": \"number\",\n        \"std\": 12.076425677445178,\n        \"min\": 148.29,\n        \"max\": 173.31,\n        \"num_unique_values\": 3,\n        \"samples\": [\n          173.31,\n          148.63,\n          148.29\n        ],\n        \"semantic_type\": \"\",\n        \"description\": \"\"\n      }\n    },\n    {\n      \"column\": \"Max\",\n      \"properties\": {\n        \"dtype\": \"number\",\n        \"std\": 10.736802530149681,\n        \"min\": 148.63,\n        \"max\": 173.31,\n        \"num_unique_values\": 4,\n        \"samples\": [\n          148.63,\n          158.83,\n          173.31\n        ],\n        \"semantic_type\": \"\",\n        \"description\": \"\"\n      }\n    },\n    {\n      \"column\": \"Min\",\n      \"properties\": {\n        \"dtype\": \"number\",\n        \"std\": 44.45895737054784,\n        \"min\": 74.87,\n        \"max\": 173.31,\n        \"num_unique_values\": 4,\n        \"samples\": [\n          147.72,\n          148.63,\n          173.31\n        ],\n        \"semantic_type\": \"\",\n        \"description\": \"\"\n      }\n    }\n  ]\n}"
            }
          },
          "metadata": {},
          "execution_count": 152
        }
      ]
    },
    {
      "cell_type": "code",
      "metadata": {
        "id": "xRrmLjUIVRXS"
      },
      "source": [
        "data"
      ],
      "execution_count": null,
      "outputs": []
    },
    {
      "cell_type": "code",
      "metadata": {
        "id": "0uyVbzxkd1PJ",
        "colab": {
          "base_uri": "https://localhost:8080/",
          "height": 443
        },
        "outputId": "5add6384-eb13-4cf7-83aa-5f0672b78cf4"
      },
      "source": [
        "data.plot(kind='bar')"
      ],
      "execution_count": null,
      "outputs": [
        {
          "output_type": "execute_result",
          "data": {
            "text/plain": [
              "<Axes: >"
            ]
          },
          "metadata": {},
          "execution_count": 153
        },
        {
          "output_type": "display_data",
          "data": {
            "text/plain": [
              "<Figure size 640x480 with 1 Axes>"
            ],
            "image/png": "[encoded data removed]"
          },
          "metadata": {}
        }
      ]
    },
    {
      "cell_type": "code",
      "metadata": {
        "id": "CwVP4POZa-kA",
        "colab": {
          "base_uri": "https://localhost:8080/",
          "height": 540
        },
        "outputId": "c66d9f90-72e6-43cd-83c9-c091e719172f"
      },
      "source": [
        "\n",
        "# Create figure and plot space\n",
        "fig, ax = plt.subplots(figsize=(10, 5))\n",
        "\n",
        "# Add x-axis and y-axis\n",
        "ax.bar(data['Date'].values,\n",
        "        data['Avg'],\n",
        "        color='pink')\n",
        "\n",
        "# Set title and labels for axes\n",
        "ax.set(xlabel=\"Date\",\n",
        "       ylabel=\"Average\",\n",
        "       title=\"Daily Aqi\")\n",
        "\n",
        "# Rotate tick marks on x-axis\n",
        "plt.setp(ax.get_xticklabels(), rotation=45)\n",
        "\n",
        "plt.show()"
      ],
      "execution_count": null,
      "outputs": [
        {
          "output_type": "display_data",
          "data": {
            "text/plain": [
              "<Figure size 1000x500 with 1 Axes>"
            ],
            "image/png": "[encoded data removed]"
          },
          "metadata": {}
        }
      ]
    },
    {
      "cell_type": "code",
      "source": [
        "# final code snippet\n",
        "\n",
        "\n",
        "\n",
        "\n",
        "\n",
        "import pandas as pd\n",
        "import matplotlib.pyplot as plt\n",
        "import json\n",
        "\n",
        "AQI_Data = pd.read_csv('/content/sample_data/AQI_Data_Updated.csv')\n",
        "\n",
        "AQI_Data.head()\n",
        "\n",
        "AQI_Data = AQI_Data.drop(['SO2','NO2','CO'],axis=1)\n",
        "\n",
        "AQI_Data.head()\n",
        "\n",
        "AQI_Data[(AQI_Data.State==\"Maharashtra\") & (AQI_Data.City==\"Mumbai\") & (AQI_Data.StationName==\"Bandra, Mumbai - MPCB\")]\n",
        "\n",
        "\n",
        "def ret_parameters(a,b,c):\n",
        "    return AQI_Data[(AQI_Data.State==a) & (AQI_Data.City==b) & (AQI_Data.StationName==c)].iloc[:, 3:-1].values\n",
        "\n",
        "def ret_result(a,b,c):\n",
        "  return AQI_Data[(AQI_Data.State==a) & (AQI_Data.City==b) & (AQI_Data.StationName==c)].iloc[:, :-1].values\n",
        "\n",
        "parameters = ret_parameters(\"Maharashtra\",\"Mumbai\",\"Bandra, Mumbai - MPCB\")\n",
        "result = ret_result(\"Rajasthan\",\"Jaipur\",\"Police Commissionerate, Jaipur - RSPCB\")\n",
        "\n",
        "\n",
        "\n",
        "X = AQI_Data.iloc[:, 3:-1].values\n",
        "Y = AQI_Data.iloc[:, -1].values\n",
        "\n",
        "from sklearn.model_selection import train_test_split\n",
        "X_train, X_test, y_train, y_test = train_test_split(X, Y, test_size=0.2, random_state=0)\n",
        "\n",
        "from sklearn.ensemble import RandomForestRegressor\n",
        "regressor = RandomForestRegressor(n_estimators = 10, random_state = 0)\n",
        "regressor.fit(X_train,y_train)\n",
        "\n",
        "regressor.predict(parameters)\n",
        "\n",
        "y_pred=regressor.predict(X_test)\n",
        "\n",
        "print(\"Coefficient of determination R^2 on train set: {}\".format(regressor.score(X_train, y_train)))\n",
        "\n",
        "print(\"Coefficient of determination R^2 on test set: {}\".format(regressor.score(X_test, y_test)))\n",
        "\n",
        "from sklearn.model_selection import cross_val_score\n",
        "score=cross_val_score(regressor,X,Y,cv=5)\n",
        "\n",
        "score.mean()\n",
        "\n",
        "pd.to_pickle(regressor,r'new_model_realtime.pickle')\n",
        "\n",
        "\n",
        "\n",
        "\n",
        "\n"
      ],
      "metadata": {
        "id": "Pq3lXeNzV6gH"
      },
      "execution_count": null,
      "outputs": []
    }
  ]
}